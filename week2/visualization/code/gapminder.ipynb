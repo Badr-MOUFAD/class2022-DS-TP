{
 "cells": [
  {
   "cell_type": "markdown",
   "metadata": {
    "id": "-ST1BCZ8kCmL"
   },
   "source": [
    "\n",
    "# Gapminder  (material copyright Erwan Le Pennec)\n",
    "\n",
    "Gapminder is a swedish foundation. Its website states\n",
    "\n",
    "> Gapminder fights devastating misconceptions about global development. Gapminder produces free teaching resources making the world understandable based on reliable statistics. Gapminder promotes a fact-based worldview everyone can understand.\n",
    "\n",
    "One of its founder, Hans Rosling, is famous for a 2006 Ted talk called _The best statistics you’ve never seen_.  It became one of the most seen TED talks ever, thanks to its unique combination of knowledge-testing, animating bubble charts and storytelling about global development.\n",
    "\n",
    "It uses a lot of bubble plots like the following one:\n",
    "<img src=\"gapminder_rosling.jpg\" alt=\"Gapminder\" style=\"width: 70%; align\"/>\n",
    "\n",
    "Our goal is to learn how to produce such a plot (and many more) with __Python__.\n",
    "\n",
    "We will use the following libraries:"
   ]
  },
  {
   "cell_type": "code",
   "execution_count": null,
   "metadata": {
    "id": "AzHRJlcAkCmP"
   },
   "outputs": [],
   "source": [
    "# standard imports\n",
    "import numpy as np\n",
    "import pandas as pd\n",
    "import matplotlib as mpl\n",
    "import matplotlib.pyplot as plt\n",
    "import matplotlib.animation as animation\n",
    "from IPython.display import HTML"
   ]
  },
  {
   "cell_type": "markdown",
   "metadata": {
    "id": "caZRdBockCmR"
   },
   "source": [
    "The Lab also relies on the following packages, which are not installed by default with anaconda.\n",
    "You need to install them with conda (`conda install yourpackagenamehere`) or pip (same command).\n",
    "\n",
    "**Warning**: `geopandas` is a notorious pain to install on Windows. If you don't succeed, go to `https://colab.research.google.com`, upload your notebook and run it there. On colab, packages can be installed directly via a notebook cell containing `!pip install thepackagename` (commands starting with `!` are intepreted as bash commands, not python code). "
   ]
  },
  {
   "cell_type": "code",
   "execution_count": null,
   "metadata": {
    "colab": {
     "base_uri": "https://localhost:8080/"
    },
    "id": "KbV46Xi5kLJ-",
    "outputId": "9986e066-26b1-4492-fbbc-030c77809f50"
   },
   "outputs": [],
   "source": [
    "!pip install fiona"
   ]
  },
  {
   "cell_type": "code",
   "execution_count": null,
   "metadata": {
    "colab": {
     "base_uri": "https://localhost:8080/"
    },
    "id": "FDjVPU9fkPCB",
    "outputId": "1bab6cbd-fc4b-459a-ec03-990070eeeab3"
   },
   "outputs": [],
   "source": [
    "!pip install geopandas"
   ]
  },
  {
   "cell_type": "code",
   "execution_count": null,
   "metadata": {
    "colab": {
     "base_uri": "https://localhost:8080/"
    },
    "id": "5bP2jr1-kRT2",
    "outputId": "8ef4e557-7cb4-4c5d-e0c7-4befe899e98d"
   },
   "outputs": [],
   "source": [
    "!pip install celluloid"
   ]
  },
  {
   "cell_type": "code",
   "execution_count": null,
   "metadata": {
    "colab": {
     "base_uri": "https://localhost:8080/"
    },
    "id": "XcK3CZvlkU8T",
    "outputId": "c7e30717-98a0-436e-9569-07ab9ce06644"
   },
   "outputs": [],
   "source": [
    "!pip install altair"
   ]
  },
  {
   "cell_type": "code",
   "execution_count": null,
   "metadata": {
    "id": "w8kybcxPkCmS"
   },
   "outputs": [],
   "source": [
    "# non standard imports\n",
    "import seaborn as sns\n",
    "import fiona\n",
    "import geopandas as gpd\n",
    "from celluloid import Camera\n",
    "import plotly.express as px\n",
    "import altair as alt"
   ]
  },
  {
   "cell_type": "markdown",
   "metadata": {
    "id": "LdH3B-pXkCmS"
   },
   "source": [
    "# The `gapminder` dataset\n",
    "\n",
    "The __gapminder__ package contains an excerpt of the full gapminder database.\n",
    "\n",
    "`gapminder` is not available on conda for Windows, you must install it with pip.\n",
    "\n"
   ]
  },
  {
   "cell_type": "code",
   "execution_count": null,
   "metadata": {
    "colab": {
     "base_uri": "https://localhost:8080/"
    },
    "id": "x1KfoSNgkZDi",
    "outputId": "247bf736-94a3-488c-8381-f24a36205c98"
   },
   "outputs": [],
   "source": [
    "!pip install gapminder"
   ]
  },
  {
   "cell_type": "code",
   "execution_count": null,
   "metadata": {
    "id": "Q0xB9-ZHkCmT"
   },
   "outputs": [],
   "source": [
    "from gapminder import gapminder"
   ]
  },
  {
   "cell_type": "code",
   "execution_count": null,
   "metadata": {
    "id": "5Nli8mwLkCmT",
    "outputId": "2014f1d7-58a3-4d74-f14e-370a2888aff9"
   },
   "outputs": [],
   "source": [
    "gapminder"
   ]
  },
  {
   "cell_type": "markdown",
   "metadata": {
    "id": "8eVmVsfWkCmV"
   },
   "source": [
    "As it can be guessed from above, it measure the Lifespan measured by the Life Expectancy (`lifeExp`), the Income measured by the GDP per capita (`gdpPercap`) as well as the population size (`pop`) of several countries across all the continents for several years between 1957 and 2007."
   ]
  },
  {
   "cell_type": "markdown",
   "metadata": {
    "id": "WciyCkuTkCmV"
   },
   "source": [
    "# The original gapminder plot"
   ]
  },
  {
   "cell_type": "markdown",
   "metadata": {
    "id": "lacHiJZ3kCmW"
   },
   "source": [
    "## A first attempt for the year 2002 using __matplotlib__\n",
    "\n",
    "__matplotlib__ is the most commonly used framework to produce plots in __Python__. It has been inspired by __Matlab__ plotting libraries and\n",
    "\n",
    "> Matplotlib is a comprehensive library for creating static, animated, and interactive visualizations in Python.\n",
    "> Matplotlib makes easy things easy and hard things possible.\n",
    "\n",
    "A plot is obtained by specifying its different components.\n",
    "\n",
    "For instance a scatter plot of the year 2002 can be obtained by:"
   ]
  },
  {
   "cell_type": "code",
   "execution_count": null,
   "metadata": {
    "colab": {
     "base_uri": "https://localhost:8080/",
     "height": 265
    },
    "id": "yfIVX7uakCmX",
    "outputId": "7c119cd4-6bbb-4b36-bbbb-e5979babc387"
   },
   "outputs": [],
   "source": [
    "gapminder_2002 = gapminder.query('year == 2002')\n",
    "plt.scatter(gapminder_2002['gdpPercap'], gapminder_2002['lifeExp']);"
   ]
  },
  {
   "cell_type": "markdown",
   "metadata": {
    "id": "Eahc0tq6kCmY"
   },
   "source": [
    "__matplotlib__ automatically proposes a scale for the different axis."
   ]
  },
  {
   "cell_type": "markdown",
   "metadata": {
    "id": "siZcaIH1kCmY"
   },
   "source": [
    "To obtain a different color for each continent, the idiomatic way with __matplotlib__ is to plot a different scatter plot for each continent."
   ]
  },
  {
   "cell_type": "code",
   "execution_count": null,
   "metadata": {
    "colab": {
     "base_uri": "https://localhost:8080/",
     "height": 265
    },
    "id": "wFtCuz-0kCmY",
    "outputId": "2f7729ef-8cdd-41c1-8a1e-ea19ba30021d"
   },
   "outputs": [],
   "source": [
    "for continent,df  in gapminder_2002.groupby('continent'):\n",
    "    plt.scatter(df['gdpPercap'], df['lifeExp'], label = continent)"
   ]
  },
  {
   "cell_type": "markdown",
   "metadata": {
    "id": "AdnElze7kCmZ"
   },
   "source": [
    "1. Modify the previous plot so that the circle area is proportionnal to the population.\n",
    "\n",
    "__Hint:__ Before specifying the `s` parameter, you need to scale the population to a value in point."
   ]
  },
  {
   "cell_type": "code",
   "execution_count": null,
   "metadata": {
    "colab": {
     "base_uri": "https://localhost:8080/"
    },
    "id": "zVB-b3XJkCmZ",
    "outputId": "8c2cf8d7-a12b-4851-cd97-1697670ab4cd"
   },
   "outputs": [],
   "source": [
    "norm_pop = mpl.colors.Normalize(vmin=0, vmax=gapminder['pop'].max())\n",
    "bubble_max_size = 300\n",
    "gapminder_2002['bubble_size'] = norm_pop(gapminder_2002['pop']) * bubble_max_size"
   ]
  },
  {
   "cell_type": "code",
   "execution_count": null,
   "metadata": {
    "id": "Vdjz_f0GkCmZ",
    "outputId": "668b8d95-9ca2-4747-8064-99aab9f08e8e"
   },
   "outputs": [],
   "source": [
    "#solution\n"
   ]
  },
  {
   "cell_type": "markdown",
   "metadata": {
    "id": "9Htyfy-XkCma"
   },
   "source": [
    "In order to obtain a figure closer to the one of Hans Rosling, we need to impose that the gdp per capita axis should be logarithmic\n",
    "\n",
    "2. Specify this logarithmic scale\n",
    "\n",
    "__Hint:__ Use `plt.xscale`."
   ]
  },
  {
   "cell_type": "code",
   "execution_count": null,
   "metadata": {
    "colab": {
     "base_uri": "https://localhost:8080/",
     "height": 269
    },
    "id": "Fzt6kpC3kCma",
    "outputId": "53bbb489-b8ea-4914-bc7c-b7eebcea3046"
   },
   "outputs": [],
   "source": [
    "#solution\n"
   ]
  },
  {
   "cell_type": "markdown",
   "metadata": {
    "id": "QeB24JT_kCmb"
   },
   "source": [
    "## Styling the graph\n",
    "\n",
    "We have now a graph which is correct but that could be improved and customized.\n"
   ]
  },
  {
   "cell_type": "code",
   "execution_count": null,
   "metadata": {
    "colab": {
     "base_uri": "https://localhost:8080/",
     "height": 269
    },
    "id": "OS_Xyb__kCmb",
    "outputId": "3f81b10c-c22c-4345-82f1-d516498f15ac"
   },
   "outputs": [],
   "source": [
    "#hidden\n",
    "for continent, df in gapminder_2002.groupby('continent'):\n",
    "    plt.scatter(df['gdpPercap'], df['lifeExp'], s=df['bubble_size'], label=continent)\n",
    "plt.xscale('log')"
   ]
  },
  {
   "cell_type": "markdown",
   "metadata": {
    "id": "Z0u8zyxBkCmb"
   },
   "source": [
    "3. Add a title _Gapminder bubble plot (2002)_ and change the axis name to Income and Lifespan\n",
    "\n",
    "__Hint:__ Use `plt.title`, `plt.xlabel` and `plt.ylabel` to specify them."
   ]
  },
  {
   "cell_type": "code",
   "execution_count": null,
   "metadata": {
    "colab": {
     "base_uri": "https://localhost:8080/",
     "height": 295
    },
    "id": "zkTNmBCYkCmb",
    "outputId": "3221812a-ba38-4fce-e63f-2c513b3a4aaa"
   },
   "outputs": [],
   "source": [
    "#solution\n"
   ]
  },
  {
   "cell_type": "markdown",
   "metadata": {
    "id": "-Jf_vWQtkCmc"
   },
   "source": [
    "The default __matplotlib__ theme (even it is much better than the original one) may be change to another one with `mpl.style.use`.\n",
    "\n",
    "4. Use the `seaborn-whitegrid` theme.\n",
    "\n",
    "__Hint:__ You may use `mpl.style.available` to see a list of all available styles."
   ]
  },
  {
   "cell_type": "code",
   "execution_count": null,
   "metadata": {
    "id": "99nJ3idskCmc"
   },
   "outputs": [],
   "source": [
    "mpl.style.use('seaborn-whitegrid')"
   ]
  },
  {
   "cell_type": "code",
   "execution_count": null,
   "metadata": {
    "colab": {
     "base_uri": "https://localhost:8080/",
     "height": 295
    },
    "id": "XBtW0bdlkCmc",
    "outputId": "d1e1fcd6-8723-4f8a-a8cd-79fbc8bd60f1"
   },
   "outputs": [],
   "source": []
  },
  {
   "cell_type": "markdown",
   "metadata": {
    "id": "FpWpjDYjkCmd"
   },
   "source": [
    "Choosing the right color scheme can be complicated (especially if you are color blind). There are a lot of color palette that are available in __ggplot2__ that one can use or one can specify the color manually. As expected, everything is done with the help of the `scale_color*` function family...\n",
    "\n",
    "5. Use the 'Set1' set of color from the Brewer family (https://colorbrewer2.org)\n",
    "\n",
    "__Hint:__ You may define a color dictionary"
   ]
  },
  {
   "cell_type": "code",
   "execution_count": null,
   "metadata": {
    "id": "lN00lHSQkCmd"
   },
   "outputs": [],
   "source": [
    "colors = plt.get_cmap('Set1')\n",
    "unique_continents = gapminder_2002['continent'].unique()\n",
    "continent_colors = dict(zip(unique_continents, colors(range(len(unique_continents)))))"
   ]
  },
  {
   "cell_type": "code",
   "execution_count": null,
   "metadata": {
    "colab": {
     "base_uri": "https://localhost:8080/",
     "height": 295
    },
    "id": "5v-dW_8JkCmd",
    "outputId": "10ddad89-bf2d-4c58-851e-492eb4bfe9c9"
   },
   "outputs": [],
   "source": [
    "#solution\n"
   ]
  },
  {
   "cell_type": "markdown",
   "metadata": {
    "id": "ay96agb7kCme"
   },
   "source": [
    "6. Specify manually the color so that they are as similar as possible to the one of original picture.\n",
    "\n",
    "__Hint:__ You can use html color names in the dictionary (a color picker may also be useful)"
   ]
  },
  {
   "cell_type": "code",
   "execution_count": null,
   "metadata": {
    "id": "sLmax_1dkCme"
   },
   "outputs": [],
   "source": [
    "continent_colors = {'Africa': '#01d4e5', 'Americas': '#7dea01',\n",
    "                    'Asia': '#fc5173', 'Europe': '#fde803', 'Oceania': '#536227'}"
   ]
  },
  {
   "cell_type": "code",
   "execution_count": null,
   "metadata": {
    "colab": {
     "base_uri": "https://localhost:8080/",
     "height": 295
    },
    "id": "YXBoWcnLkCme",
    "outputId": "5f8912b3-bb56-49c1-a9e1-e4e5e0f46828"
   },
   "outputs": [],
   "source": []
  },
  {
   "cell_type": "markdown",
   "metadata": {
    "id": "Hlz89FjfkCme"
   },
   "source": [
    "7. Specify manually the xticks by `[300, 1000, 3000, 10000, 30000]`\n",
    "\n",
    "__Hint:__ along with `plt.xticks`, you may have to use the following hack\n",
    "```\n",
    "ax = plt.gca()\n",
    "ax.get_xaxis().set_major_formatter(mpl.ticker.ScalarFormatter());\n",
    "```"
   ]
  },
  {
   "cell_type": "code",
   "execution_count": null,
   "metadata": {
    "colab": {
     "base_uri": "https://localhost:8080/",
     "height": 291
    },
    "id": "TcvvJ0-_kCmf",
    "outputId": "02587825-4ecc-4ba0-de99-ce8113866a85"
   },
   "outputs": [],
   "source": [
    "#solution\n"
   ]
  },
  {
   "cell_type": "markdown",
   "metadata": {
    "id": "t6VfduhFkCmf"
   },
   "source": [
    "Adding a legend is normally as easy as adding `plt.legend()`"
   ]
  },
  {
   "cell_type": "code",
   "execution_count": null,
   "metadata": {
    "colab": {
     "base_uri": "https://localhost:8080/",
     "height": 291
    },
    "id": "YuE4CrCwkCmf",
    "outputId": "b9e5bced-bce9-4165-8de3-c547908466f7"
   },
   "outputs": [],
   "source": [
    "for continent, df in gapminder_2002.groupby('continent'):\n",
    "    plt.scatter(df['gdpPercap'], df['lifeExp'], s=df['bubble_size'], label = continent,\n",
    "    c = [continent_colors[continent]])\n",
    "plt.xscale('log')\n",
    "plt.title('Gapminder bubble plot (2002)')\n",
    "plt.xlabel('Income')\n",
    "plt.ylabel('Lifespan');\n",
    "plt.xticks([300, 1000, 3000, 10000, 30000])\n",
    "ax = plt.gca()\n",
    "ax.get_xaxis().set_major_formatter(mpl.ticker.ScalarFormatter());\n",
    "plt.legend();"
   ]
  },
  {
   "cell_type": "markdown",
   "metadata": {
    "id": "CdqcmOKpkCmg"
   },
   "source": [
    "Unfortunately, we have use two channels the size and the color and we should have two separate legends.\n",
    "\n",
    "Fixing this issue proved to be quite challenging:"
   ]
  },
  {
   "cell_type": "code",
   "execution_count": null,
   "metadata": {
    "colab": {
     "base_uri": "https://localhost:8080/",
     "height": 291
    },
    "id": "zQBD39DZkCmg",
    "outputId": "6fdfff7f-0ed9-461f-90b2-a91e5b23427e"
   },
   "outputs": [],
   "source": [
    "for continent, df in gapminder_2002.groupby('continent'):\n",
    "    plt.scatter(df['gdpPercap'], df['lifeExp'], s=df['bubble_size'], label=continent,\n",
    "    c=[continent_colors[continent]])\n",
    "plt.xscale('log')\n",
    "plt.title('Gapminder bubble plot (2002)')\n",
    "plt.xlabel('Income')\n",
    "plt.ylabel('Lifespan');\n",
    "plt.xticks([300, 1000, 3000, 10000, 30000])\n",
    "ax = plt.gca()\n",
    "ax.get_xaxis().set_major_formatter(mpl.ticker.ScalarFormatter());\n",
    "lgd = ax.legend()\n",
    "ax.add_artist(lgd)\n",
    "for handle in lgd.legendHandles:\n",
    "    handle.set_sizes([100.0])\n",
    "scatter = plt.scatter([None, None], [None, None],\n",
    "                      s=[norm_pop(gapminder_2002['pop'].min()) * bubble_max_size, \n",
    "                         norm_pop(gapminder_2002['pop'].max()) * bubble_max_size])\n",
    "kw = dict(prop=\"sizes\", num=5,\n",
    "          func=lambda s: norm_pop.inverse(s) / bubble_max_size)\n",
    "legend2 = ax.legend(*scatter.legend_elements(**kw),\n",
    "                    loc='best',\n",
    "                    bbox_to_anchor=(0.8, 0.45))"
   ]
  },
  {
   "cell_type": "markdown",
   "metadata": {
    "id": "L1rbsakZkCmg"
   },
   "source": [
    "\n",
    "Last but not least, we may polish the legend by giving title, overriding the dot sizes for the continent while maintaining the same order\n",
    "\n",
    "8. Use all your skills to do that (and specify the population in Millions).\n",
    "\n",
    "__Hint:__ Use the `title` keyword of the legend and the `format` argument of `legend_elements`."
   ]
  },
  {
   "cell_type": "code",
   "execution_count": null,
   "metadata": {
    "colab": {
     "base_uri": "https://localhost:8080/",
     "height": 291
    },
    "id": "PSttT5fDkCmh",
    "outputId": "41adb262-533d-46db-896a-c06b5331f503"
   },
   "outputs": [],
   "source": [
    "#solution\n"
   ]
  },
  {
   "cell_type": "markdown",
   "metadata": {
    "id": "fVdQnyPHkCmh"
   },
   "source": [
    "## Other available frameworks\n",
    "\n",
    "__matplotlib__ is not the only plot framework in __Python__ even though it is probably the most flexible. We show here two implementation of the same graph using __plotly__ and __altair__, two frameworks relying on javascript.\n",
    "\n",
    "__plotly:__\n"
   ]
  },
  {
   "cell_type": "code",
   "execution_count": null,
   "metadata": {
    "colab": {
     "base_uri": "https://localhost:8080/",
     "height": 542
    },
    "id": "nXd87PUKkCmh",
    "outputId": "e917700f-c49a-4663-e59d-82fd8fad15c1"
   },
   "outputs": [],
   "source": [
    "fig = px.scatter(gapminder_2002,\n",
    "    x='gdpPercap', y='lifeExp',\n",
    "    color='continent', size='pop',\n",
    "    size_max=40, hover_name='country')\n",
    "fig.update_layout(\n",
    "    title=\"Gapminder bubble plot (2002)\",\n",
    "    xaxis_title=\"Income\",\n",
    "    yaxis_title=\"Lifespan\",\n",
    "    xaxis_type='log')\n",
    "fig.show()"
   ]
  },
  {
   "cell_type": "markdown",
   "metadata": {
    "id": "bG5DIwk2kCmh"
   },
   "source": [
    "__altair:__"
   ]
  },
  {
   "cell_type": "code",
   "execution_count": null,
   "metadata": {
    "colab": {
     "base_uri": "https://localhost:8080/",
     "height": 386
    },
    "id": "b09Cy3EQkCmi",
    "outputId": "7c8367fa-f3c2-4c64-fdf5-2ee117b47a97"
   },
   "outputs": [],
   "source": [
    "# \\ merely tells python that the line of code does not end here, but continues after the break:\n",
    "alt.Chart(gapminder_2002, title='Gapminder bubble plot (2002)').\\\n",
    "    mark_circle().\\\n",
    "    encode(x=alt.X('gdpPercap:Q', scale=alt.Scale(type='log'), title='Income'),\n",
    "           y=alt.Y('lifeExp:Q', scale=alt.Scale(zero=False), title='Lifespan'),\n",
    "           color=alt.Color('continent:N', title='Continent'),\n",
    "           size=alt.Size('pop:Q', title='Population', scale=alt.Scale(range=[0, 1000]), \n",
    "                         legend=alt.Legend(format='~s')),\n",
    "           tooltip=['country', 'pop']\n",
    "    ).interactive()"
   ]
  },
  {
   "cell_type": "markdown",
   "metadata": {
    "id": "OqjJghbYkCmi"
   },
   "source": [
    "Note that both framework are inspired by the grammar of graphics rather than __matlab__: one specifies the mapping between the variables and the aesthetics and let the magic happens."
   ]
  },
  {
   "cell_type": "markdown",
   "metadata": {
    "id": "dLAadfw-kCmi"
   },
   "source": [
    "# Adding the temporal dimension\n",
    "\n",
    "The goal is now to visualize the same information across the years."
   ]
  },
  {
   "cell_type": "markdown",
   "metadata": {
    "id": "WEeYLZYGkCmi"
   },
   "source": [
    "## Using facets\n",
    "\n",
    "Small multiples, or facets, are repetitions of the same graph for several similar datasets. They can easily be obtained with the `fig.suplots`\n",
    "9. Obtain the bubble plot for all the years\n",
    "\n",
    "__Hint:__ You may use the following pattern"
   ]
  },
  {
   "cell_type": "code",
   "execution_count": null,
   "metadata": {
    "colab": {
     "base_uri": "https://localhost:8080/",
     "height": 697
    },
    "id": "Cj6IFGd-kCmj",
    "outputId": "f8943944-09cb-4a58-9df4-992167a3951c"
   },
   "outputs": [],
   "source": [
    "gapminder_year = gapminder.groupby('year')\n",
    "fig, axs = plt.subplots(nrows=1 + ((gapminder_year.ngroups - 1) // 4), ncols=4, sharex=True, sharey=True,\n",
    "    figsize=(15, 12))\n",
    "axs_flat = axs.flatten()\n",
    "for i, (year, data) in enumerate(gapminder_year):\n",
    "    axs_flat[i].scatter(data['gdpPercap'], data['lifeExp'])"
   ]
  },
  {
   "cell_type": "code",
   "execution_count": null,
   "metadata": {
    "colab": {
     "base_uri": "https://localhost:8080/",
     "height": 726
    },
    "id": "dqmyj7x6kCmj",
    "outputId": "23236943-1d41-43fd-8234-691a7a26405f"
   },
   "outputs": [],
   "source": [
    "gapminder_year = gapminder.groupby('year')\n",
    "fig, axs = plt.subplots(nrows=1 + ((gapminder_year.ngroups - 1) // 4), ncols=4, sharex=True, sharey=True,\n",
    "    figsize=(15, 12))\n",
    "plt.xscale('log')\n",
    "plt.xticks([300, 1000, 3000, 10000, 30000])\n",
    "axs_flat = axs.flatten()\n",
    "for i, (year, data) in enumerate(gapminder_year):\n",
    "    for continent, df in data.groupby('continent'):\n",
    "        axs_flat[i].scatter(df['gdpPercap'], df['lifeExp'], \n",
    "                            s=norm_pop(df['pop']) * bubble_max_size, \n",
    "                            label=continent, c=[continent_colors[continent]])\n",
    "    axs_flat[i].set_title(f'year : {year}')\n",
    "    axs_flat[i].get_xaxis().set_major_formatter(mpl.ticker.ScalarFormatter());\n",
    "fig.add_subplot(111, frameon=False)\n",
    "plt.tick_params(labelcolor='none', top=False, bottom=False, left=False, right=False)\n",
    "plt.xlabel('Income')\n",
    "plt.ylabel('Lifespan');"
   ]
  },
  {
   "cell_type": "markdown",
   "metadata": {
    "id": "SqU8PnFskCmj"
   },
   "source": [
    "## Using animation\n",
    "\n",
    "The `year` variable is a natural candidate for a temporal axis. One can use the `Camera` function of celluloid to capture a sequence of plots:\n",
    "\n"
   ]
  },
  {
   "cell_type": "code",
   "execution_count": null,
   "metadata": {
    "id": "nXbwVR2bkCmk"
   },
   "outputs": [],
   "source": [
    "fig, ax = plt.subplots()\n",
    "camera = Camera(fig)\n",
    "for i in range(10):\n",
    "    plt.plot([0, i], [0, i])\n",
    "    camera.snap()\n",
    "anim = camera.animate();\n",
    "plt.close(fig)"
   ]
  },
  {
   "cell_type": "markdown",
   "metadata": {
    "id": "c4HGp2l2kCmk"
   },
   "source": [
    "and then produce an animation"
   ]
  },
  {
   "cell_type": "code",
   "execution_count": null,
   "metadata": {
    "id": "nE8zXqn3kCmk",
    "outputId": "43d26b16-8454-4823-f8ee-4562619cae5e"
   },
   "outputs": [],
   "source": [
    "HTML(anim.to_html5_video())"
   ]
  },
  {
   "cell_type": "markdown",
   "metadata": {
    "id": "vzuSyRv0kCmk"
   },
   "source": [
    "or save it in a file"
   ]
  },
  {
   "cell_type": "code",
   "execution_count": null,
   "metadata": {
    "colab": {
     "base_uri": "https://localhost:8080/",
     "height": 351
    },
    "id": "3PdV868PkCml",
    "outputId": "91551b63-a940-4c16-bc0b-cb0218fbac8e"
   },
   "outputs": [],
   "source": [
    "anim.save('animation.gif', writer='imagemagick', fps=5)\n",
    "# if you get an error message (which is quite explicit), replace 'imagemagick' by 'pillow'"
   ]
  },
  {
   "cell_type": "markdown",
   "metadata": {
    "id": "4B5XvD2YkCml"
   },
   "source": [
    "10. Use this approach to produce a bubble plot animation across the years.\n",
    "\n",
    "__Hint:__ You may use `ax.text` with `transform=ax.transAxes` to place the title.\n"
   ]
  },
  {
   "cell_type": "code",
   "execution_count": null,
   "metadata": {
    "id": "6Mw7okCUkCml"
   },
   "outputs": [],
   "source": [
    "#solution\n"
   ]
  },
  {
   "cell_type": "code",
   "execution_count": null,
   "metadata": {
    "colab": {
     "base_uri": "https://localhost:8080/",
     "height": 351
    },
    "id": "mLW4vR0ekCml",
    "outputId": "e53d2bf3-9acc-4af4-a677-377887ae1ea1"
   },
   "outputs": [],
   "source": [
    "#solution\n",
    "anim.save('gapminder.gif', writer='imagemagick', fps=5)  # also use writer='pillow' if you have an error"
   ]
  },
  {
   "cell_type": "code",
   "execution_count": null,
   "metadata": {
    "colab": {
     "base_uri": "https://localhost:8080/",
     "height": 310
    },
    "id": "xTkEpuphkCmm",
    "outputId": "a01ea5a3-02b6-44b5-da61-82411ef6071e"
   },
   "outputs": [],
   "source": [
    "#solution\n",
    "HTML(anim.to_html5_video())  # if ffmpeg is not installed, google the error message\n",
    "# which will lead you to install ffmpeg (not the python package called ffmpeg, the ffmpeg software) and\n",
    "# providing the path of its executable to matplotlib"
   ]
  },
  {
   "cell_type": "markdown",
   "metadata": {
    "id": "Db9SGnNikCmm"
   },
   "source": [
    "## Using the trace of the countries"
   ]
  },
  {
   "cell_type": "markdown",
   "metadata": {
    "id": "UFcqWzb5kCmm"
   },
   "source": [
    "We may also use a completely different approach. \n",
    "One may draw the full trajectory along the years of each country in the same plot\n",
    "\n",
    "\n",
    "11. Display such a plot and add the color for each continent.\n",
    "\n",
    "__Hint:__ Use `plt.plot`"
   ]
  },
  {
   "cell_type": "code",
   "execution_count": null,
   "metadata": {
    "colab": {
     "base_uri": "https://localhost:8080/",
     "height": 276
    },
    "id": "1acsrD_GkCmm",
    "outputId": "9f69718a-2cb7-4e88-c7b7-f0c87115bea5"
   },
   "outputs": [],
   "source": [
    "#solution\n"
   ]
  },
  {
   "cell_type": "markdown",
   "metadata": {
    "id": "0fyZehtekCmn"
   },
   "source": [
    "12. Add the population information through the size of the lines.\n",
    "\n",
    "__Hint:__ A line in __plt.plot__ should have a single width but you can use the following hack.\n"
   ]
  },
  {
   "cell_type": "code",
   "execution_count": null,
   "metadata": {
    "id": "BmQAPec6kCmn"
   },
   "outputs": [],
   "source": [
    "def plot_width(x, y, w, c):\n",
    "    for i in range(len(x) - 1):\n",
    "        plt.plot(x.iloc[[i, i + 1]], y.iloc[[i, i + 1]], linewidth=w[i], c=c)"
   ]
  },
  {
   "cell_type": "code",
   "execution_count": null,
   "metadata": {
    "colab": {
     "base_uri": "https://localhost:8080/",
     "height": 276
    },
    "id": "DhS08H_2kCmn",
    "outputId": "8beaffbd-be0e-46e7-c75b-0462d834adcb"
   },
   "outputs": [],
   "source": [
    "#solution\n"
   ]
  },
  {
   "cell_type": "markdown",
   "metadata": {
    "id": "akF6xttTkCmn"
   },
   "source": [
    "In the previous approach, the size between two years is kept constant \n",
    "and proportionnal to the population of the start.\n",
    "\n",
    "13. Find a way to have a smoother transition.\n",
    "\n",
    "__Hint:__ One may enhance the previous `plot_width` function:"
   ]
  },
  {
   "cell_type": "code",
   "execution_count": null,
   "metadata": {
    "id": "G4f7yIvlkCmn"
   },
   "outputs": [],
   "source": [
    "def plot_width(x, y, w, c, n=10):\n",
    "    t = np.arange(len(x))\n",
    "    t_r = np.arange(0, len(x), 1/n)\n",
    "    x_r = np.interp(t_r, t, x)\n",
    "    y_r = np.interp(t_r, t, y)\n",
    "    w_r = np.interp(t_r, t, w)\n",
    "    points = np.concatenate([x_r[:, None], y_r[:, None]], axis=1).reshape(-1, 1, 2)\n",
    "    segments = np.concatenate([points[:-1], points[1:]], axis=1)\n",
    "    lc = mpl.collections.LineCollection(segments, linewidths=w_r[:-1], color=c)\n",
    "    plt.scatter(x, y, s=w ** 2 / np.sqrt(2), color=c)\n",
    "    ax = plt.gca()\n",
    "    ax.add_collection(lc)"
   ]
  },
  {
   "cell_type": "code",
   "execution_count": null,
   "metadata": {
    "colab": {
     "base_uri": "https://localhost:8080/",
     "height": 276
    },
    "id": "ONjAsVUukCmo",
    "outputId": "c72f4361-5fed-4c9f-ee76-b83a1c70c3ef"
   },
   "outputs": [],
   "source": [
    "#solution\n"
   ]
  },
  {
   "cell_type": "markdown",
   "metadata": {
    "id": "b8wALrIMkCmo"
   },
   "source": [
    "As a general comment, adding new functionalities to __matplotlib__ is a matter of using the basic primitives it is based on. You have to dwell into __matplotlib__ documentation for that."
   ]
  },
  {
   "cell_type": "markdown",
   "metadata": {
    "id": "UMSbPc24kCmo"
   },
   "source": [
    "14. Propose a plot highlighting the trajectory of a few countries:"
   ]
  },
  {
   "cell_type": "code",
   "execution_count": null,
   "metadata": {
    "id": "TMGWIXRBkCmo"
   },
   "outputs": [],
   "source": [
    "highlights = ['Morocco', 'Germany', 'India', 'China']"
   ]
  },
  {
   "cell_type": "markdown",
   "metadata": {
    "id": "dsXVJu_akCmo"
   },
   "source": [
    "__Hint:__ You may plot all the countries in grey and overplot the selected countries"
   ]
  },
  {
   "cell_type": "code",
   "execution_count": null,
   "metadata": {
    "colab": {
     "base_uri": "https://localhost:8080/",
     "height": 276
    },
    "id": "XZyHsFI8kCmp",
    "outputId": "326b55d9-ee07-49a4-9eb6-38f3fdc0ae6e"
   },
   "outputs": [],
   "source": [
    "#solution\n"
   ]
  },
  {
   "cell_type": "markdown",
   "metadata": {
    "id": "2H4m5r63kCmp"
   },
   "source": [
    "# Map and choroplet\n",
    "\n",
    "Spatial tools have made tremendeous progresses in the last years and it is\n",
    "now really easy to produce a choroplet: a map in which region are filled\n",
    "according to a value.\n",
    "\n",
    "## A base map\n",
    "\n",
    "The first step is to read the base map: upload the file data/UIA_World_Countries_Boundaries.shp . If you run this on colab, be sure to upload all the UIA_World_Countries_Boundaries.* files and not only \n",
    "# the one with the .shp extension"
   ]
  },
  {
   "cell_type": "code",
   "execution_count": null,
   "metadata": {
    "colab": {
     "base_uri": "https://localhost:8080/",
     "height": 85,
     "resources": {
      "http://localhost:8080/nbextensions/google.colab/files.js": {
       "data": "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",
       "headers": [
        [
         "content-type",
         "application/javascript"
        ]
       ],
       "ok": true,
       "status": 200,
       "status_text": "OK"
      }
     }
    },
    "id": "8S2x5sZylfc8",
    "outputId": "3c06d734-a404-4d60-da91-280093f3d013"
   },
   "outputs": [],
   "source": [
    "from google.colab import files\n",
    "\n",
    "uploaded = files.upload()"
   ]
  },
  {
   "cell_type": "code",
   "execution_count": null,
   "metadata": {
    "id": "bmxiehDpkCmp"
   },
   "outputs": [],
   "source": [
    "world_map = gpd.read_file('UIA_World_Countries_Boundaries.shp')\n",
    "# if you run this on colab, be sure to upload all the UIA_World_Countries_Boundaries.* files and not only \n",
    "# the one with the .shp extension"
   ]
  },
  {
   "cell_type": "markdown",
   "metadata": {
    "id": "gCAd5QhSkCmp"
   },
   "source": [
    "It corresponds to a classical dataframe augmented by a geometry column"
   ]
  },
  {
   "cell_type": "code",
   "execution_count": null,
   "metadata": {
    "id": "Q1gkfIaHkCmq",
    "outputId": "4db9a729-b6f5-45bc-e9ff-a92b506ebe5a"
   },
   "outputs": [],
   "source": [
    "world_map"
   ]
  },
  {
   "cell_type": "markdown",
   "metadata": {
    "id": "uQAT3r5gkCmq"
   },
   "source": [
    "that allows to produce map:"
   ]
  },
  {
   "cell_type": "code",
   "execution_count": null,
   "metadata": {
    "colab": {
     "base_uri": "https://localhost:8080/",
     "height": 205
    },
    "id": "fMhKhHu4kCmq",
    "outputId": "b24e00f0-8e71-4e09-84e7-f7ba4a1d8e1e"
   },
   "outputs": [],
   "source": [
    "world_map.plot();"
   ]
  },
  {
   "cell_type": "markdown",
   "metadata": {
    "id": "yowrhP1PkCmq"
   },
   "source": [
    "## Data cleaning\n",
    "\n",
    "We should now combine this map with the gapminder columns. \n",
    "As often, we have to tackle a data cleaning issue, i.e. a small name mismatch."
   ]
  },
  {
   "cell_type": "code",
   "execution_count": null,
   "metadata": {
    "id": "65EUlo-OkCmq"
   },
   "outputs": [],
   "source": [
    "def trDataFrame(columns, *data):\n",
    "    return pd.DataFrame(\n",
    "        data=list(zip(*[iter(data)]*len(columns))),\n",
    "        columns=columns)"
   ]
  },
  {
   "cell_type": "code",
   "execution_count": null,
   "metadata": {
    "id": "_ZzVGEAKkCmq"
   },
   "outputs": [],
   "source": [
    "gapminder_world_map_name_difference = trDataFrame(\n",
    "    ['country', 'COUNTRYAFF'],\n",
    "    \"Congo, Dem. Rep.\", \"Congo DRC\",\n",
    "    \"Congo, Rep.\",  \"Congo\",\n",
    "    \"Cote d'Ivoire\", \"Côte d'Ivoire\",\n",
    "    \"Hong Kong, China\", np.NaN,\n",
    "    \"Korea, Dem. Rep.\", \"North Korea\",\n",
    "    \"Korea, Rep.\", \"South Korea\", \n",
    "    \"Puerto Rico\", np.NaN,\n",
    "    \"Reunion\", np.NaN,\n",
    "    \"Slovak Republic\", \"Slovakia\",\n",
    "    \"Swaziland\", np.NaN,\n",
    "    \"Taiwan\", np.NaN,\n",
    "    \"West Bank and Gaza\", \"Palestinian Territory\", \n",
    "    \"Yemen, Rep.\", \"Yemen\"\n",
    ")\n",
    "world_map = world_map.merge(gapminder_world_map_name_difference,\n",
    "    on='COUNTRYAFF', how='left')\n",
    "world_map.loc[pd.isna(world_map['country']), 'country'] = world_map.loc[pd.isna(world_map['country']), 'COUNTRYAFF']"
   ]
  },
  {
   "cell_type": "markdown",
   "metadata": {
    "id": "E7Q1xzN2kCmr"
   },
   "source": [
    "15. Join the two datasets.\n",
    "\n",
    "__Hint:__ Use a _left_ `merge` "
   ]
  },
  {
   "cell_type": "code",
   "execution_count": null,
   "metadata": {
    "id": "XreYhXnNkCmr"
   },
   "outputs": [],
   "source": [
    "world_map = world_map.merge(gapminder_2002, on='country', how='left')"
   ]
  },
  {
   "cell_type": "markdown",
   "metadata": {
    "id": "LS9Mb48nkCmr"
   },
   "source": [
    "## Choroplet\n",
    "\n",
    "Obtaining a choroplet is _as simple as_"
   ]
  },
  {
   "cell_type": "code",
   "execution_count": null,
   "metadata": {
    "colab": {
     "base_uri": "https://localhost:8080/",
     "height": 205
    },
    "id": "3jgEEudHkCmr",
    "outputId": "da0a5b69-ce0a-4a29-f17d-b223033f2564"
   },
   "outputs": [],
   "source": [
    "world_map.plot(column='lifeExp', missing_kwds={'color': 'lightgrey'});"
   ]
  },
  {
   "cell_type": "markdown",
   "metadata": {
    "id": "snrblkLXkCmr"
   },
   "source": [
    "Note the use of `missing_kwds` to visualize the missing countries."
   ]
  },
  {
   "cell_type": "markdown",
   "metadata": {
    "id": "G5NEYNg_kCmr"
   },
   "source": [
    "16. Change the default colormap to the _inferno_ one.\n",
    "\n",
    "__Hint:__ Use the `cmap` argument."
   ]
  },
  {
   "cell_type": "code",
   "execution_count": null,
   "metadata": {
    "colab": {
     "base_uri": "https://localhost:8080/",
     "height": 205
    },
    "id": "OM2b42dnkCms",
    "outputId": "4aa22c21-6a94-4975-c1e8-9de86750ceeb"
   },
   "outputs": [],
   "source": [
    "#solution"
   ]
  },
  {
   "cell_type": "markdown",
   "metadata": {
    "id": "LiiWClf0kCms"
   },
   "source": [
    "## Graticules\n",
    "\n",
    "Graticules (coordinates grid) are a precious help when dealing with maps.\n",
    "The following command loads a grid of latitudes and longitudes evenly spaced every 10 degrees. \n",
    "\n",
    "Load all the files graticlues.** (not only .shp)"
   ]
  },
  {
   "cell_type": "code",
   "execution_count": null,
   "metadata": {
    "colab": {
     "base_uri": "https://localhost:8080/",
     "height": 85,
     "resources": {
      "http://localhost:8080/nbextensions/google.colab/files.js": {
       "data": "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",
       "headers": [
        [
         "content-type",
         "application/javascript"
        ]
       ],
       "ok": true,
       "status": 200,
       "status_text": "OK"
      }
     }
    },
    "id": "Sh__yqoomLj6",
    "outputId": "fd6a6a82-84a0-49d0-8bfc-150471c45645"
   },
   "outputs": [],
   "source": [
    "uploaded = files.upload()"
   ]
  },
  {
   "cell_type": "code",
   "execution_count": null,
   "metadata": {
    "id": "X-WmVOPUkCms"
   },
   "outputs": [],
   "source": [
    "graticule = gpd.read_file('graticule.shp')"
   ]
  },
  {
   "cell_type": "markdown",
   "metadata": {
    "id": "O-wYCYjukCms"
   },
   "source": [
    "17. Add this grid to the map.\n",
    "\n",
    "__Hint:__ You may want to play with `color`, `linewidth` and `zorder`.\n"
   ]
  },
  {
   "cell_type": "code",
   "execution_count": null,
   "metadata": {
    "colab": {
     "base_uri": "https://localhost:8080/",
     "height": 193
    },
    "id": "f5ggAyoxkCmt",
    "outputId": "b82532b6-3a8b-4948-e972-501d7f944ba9"
   },
   "outputs": [],
   "source": []
  },
  {
   "cell_type": "markdown",
   "metadata": {
    "id": "3K-P_x74kCmt"
   },
   "source": [
    "## Projection\n",
    "\n",
    "As the earth is (mostly) spherical, there is always a projection involvec\n",
    "in map. With __geopandas__, one can specify a new projection using the `to_crs` method.\n",
    "\n",
    "\n",
    "18. Project the map and the graricule using the Mollweide projection.\n",
    "\n",
    "__Hint:__ This projection is described by the parameters `+proj=moll`."
   ]
  },
  {
   "cell_type": "code",
   "execution_count": null,
   "metadata": {
    "id": "luFrG_5QkCmt"
   },
   "outputs": [],
   "source": [
    "#solution\n",
    "world_map_proj = world_map.to_crs(\"+proj=moll\") \n",
    "graticule_proj = graticule.to_crs(\"+proj=moll\") "
   ]
  },
  {
   "cell_type": "code",
   "execution_count": null,
   "metadata": {
    "colab": {
     "base_uri": "https://localhost:8080/",
     "height": 196
    },
    "id": "X4YaJzr5kCmu",
    "outputId": "0de173da-ddcc-4294-9f84-1fa08efb9442"
   },
   "outputs": [],
   "source": [
    "#solution\n",
    "ax = plt.gca()\n",
    "graticule_proj.plot(ax=ax, color='lightgray', linewidth=.5, zorder=-1)\n",
    "world_map_proj.plot(ax=ax, column='lifeExp', cmap='inferno', missing_kwds={'color': 'lightgrey'})\n",
    "plt.axis('off');"
   ]
  },
  {
   "cell_type": "markdown",
   "metadata": {
    "id": "9fYKJCNOkCmu"
   },
   "source": [
    "##Legend\n",
    "\n",
    "The only missing piece is the legend.\n",
    "\n",
    "19. Add a colormap legend\n",
    "\n",
    "__Hint:__ Use the `legend` keyword of the `plot` method."
   ]
  },
  {
   "cell_type": "code",
   "execution_count": null,
   "metadata": {
    "colab": {
     "base_uri": "https://localhost:8080/",
     "height": 250
    },
    "id": "Ww8AqFMlkCmu",
    "outputId": "83d5b753-c976-4c93-90d0-0b0a8ff4b33d"
   },
   "outputs": [],
   "source": [
    "#solution\n"
   ]
  },
  {
   "cell_type": "markdown",
   "metadata": {
    "id": "gjYZirbFkCmv"
   },
   "source": [
    "A better legend can be obtain with some tweaks:"
   ]
  },
  {
   "cell_type": "code",
   "execution_count": null,
   "metadata": {
    "colab": {
     "base_uri": "https://localhost:8080/",
     "height": 190
    },
    "id": "imeiCE00kCmw",
    "outputId": "bdff49d8-d27d-4cd9-b804-b5a49f42774a"
   },
   "outputs": [],
   "source": [
    "fig, ax = plt.subplots()\n",
    "vmin = gapminder_2002['lifeExp'].min()\n",
    "vmax = gapminder_2002['lifeExp'].max()\n",
    "vnorm = mpl.colors.Normalize(vmin=vmin, vmax=vmax)\n",
    "sm = plt.cm.ScalarMappable(cmap='inferno', norm=vnorm)\n",
    "fig.colorbar(sm, orientation=\"vertical\", fraction=.025, pad=0.1, aspect = 10)\n",
    "graticule_proj.plot(ax=ax, color='lightgray', linewidth=.5, zorder=-1)\n",
    "world_map_proj.plot(ax=ax, column='lifeExp', cmap='inferno', norm=vnorm,\n",
    "    missing_kwds={'color': 'lightgrey'})\n",
    "plt.axis('off')\n",
    "plt.title('Life Expectation in 2002');"
   ]
  },
  {
   "cell_type": "markdown",
   "metadata": {
    "id": "QiDrsYdukCmx"
   },
   "source": [
    "# Exploration\n",
    "\n",
    "We will conclude this lab by a quick (and not so dirty) visual exploration of the dataset.\n",
    "We will look at the most classical representations of the most classical data types.\n",
    "\n"
   ]
  },
  {
   "cell_type": "markdown",
   "metadata": {
    "id": "m2EEuEiYkCmx"
   },
   "source": [
    "## Counts\n",
    "\n",
    "Count plots are probably the most common type of plots.\n",
    "\n",
    "### Bar plot\n",
    "\n",
    "Bar plots, in which the height (and the surface) or bars are proportionnal to the count is now ubiquitous.\n",
    "\n",
    "Afte computing the counts:"
   ]
  },
  {
   "cell_type": "code",
   "execution_count": null,
   "metadata": {
    "colab": {
     "base_uri": "https://localhost:8080/",
     "height": 206
    },
    "id": "u02LiEZKkCmx",
    "outputId": "1c2c39f1-fd21-463a-a935-ab18310f6630"
   },
   "outputs": [],
   "source": [
    "gapminder_count = pd.DataFrame({'n': gapminder_2002.groupby('continent').size()}).reset_index()\n",
    "gapminder_count"
   ]
  },
  {
   "cell_type": "markdown",
   "metadata": {
    "id": "6I94hyyTkCmx"
   },
   "source": [
    "we can use `plt.bar` to visualize them:"
   ]
  },
  {
   "cell_type": "code",
   "execution_count": null,
   "metadata": {
    "colab": {
     "base_uri": "https://localhost:8080/",
     "height": 262
    },
    "id": "QW6ZX-TnkCmx",
    "outputId": "69d0731a-3b35-4d55-a6a3-24abdb11c02a"
   },
   "outputs": [],
   "source": [
    "plt.bar(gapminder_count['continent'], gapminder_count['n']);"
   ]
  },
  {
   "cell_type": "markdown",
   "metadata": {
    "id": "qlawsdHFkCmy"
   },
   "source": [
    "20. Change the code so that the bars are horizontal\n",
    "\n",
    "__Hint:__ Use `plt.barh`"
   ]
  },
  {
   "cell_type": "code",
   "execution_count": null,
   "metadata": {
    "colab": {
     "base_uri": "https://localhost:8080/",
     "height": 262
    },
    "id": "OR8mxvuvkCmy",
    "outputId": "761204c8-3b37-44d8-eff5-856c6879b10a"
   },
   "outputs": [],
   "source": [
    "#solution\n",
    "plt.barh(gapminder_count['continent'], gapminder_count['n']);"
   ]
  },
  {
   "cell_type": "markdown",
   "metadata": {
    "id": "i6vTYX7MkCmy"
   },
   "source": [
    "21. Add some (redundant) colors to the bars.\n",
    "\n",
    "__Hint:__ Use the `color` keyword."
   ]
  },
  {
   "cell_type": "code",
   "execution_count": null,
   "metadata": {
    "colab": {
     "base_uri": "https://localhost:8080/",
     "height": 262
    },
    "id": "DAyQfqbckCmy",
    "outputId": "534e61e0-d36a-4d17-eb22-40abb189ffbd"
   },
   "outputs": [],
   "source": [
    "#solution\n"
   ]
  },
  {
   "cell_type": "markdown",
   "metadata": {
    "id": "jM3orG50kCmy"
   },
   "source": [
    "### Stacked bar plot\n",
    "\n",
    "The bars can be put one on the top of another to obtain a stacked bar plot."
   ]
  },
  {
   "cell_type": "code",
   "execution_count": null,
   "metadata": {
    "id": "AMdVk_l_kCmy"
   },
   "outputs": [],
   "source": [
    "gapminder_count['cum_n'] = gapminder_count['n'][::-1].cumsum()[::-1]"
   ]
  },
  {
   "cell_type": "code",
   "execution_count": null,
   "metadata": {
    "colab": {
     "base_uri": "https://localhost:8080/",
     "height": 262
    },
    "id": "yr7KR_xskCmz",
    "outputId": "3d64e380-a322-498b-b793-e3be647bfb5b"
   },
   "outputs": [],
   "source": [
    "plt.barh(\" \", gapminder_count['cum_n'], color=gapminder_count['continent'].map(continent_colors));"
   ]
  },
  {
   "cell_type": "markdown",
   "metadata": {
    "id": "QuANs35ykCmz"
   },
   "source": [
    "This representation is much more interesting where there a two different type of categories.\n",
    "\n",
    "21. Produce a stacked bar plot for the continent and the fact that the life expectation is above 70.\n",
    "\n",
    "__Hint:__ You can use the following code and be inspired by the previous example.\n"
   ]
  },
  {
   "cell_type": "code",
   "execution_count": null,
   "metadata": {
    "colab": {
     "base_uri": "https://localhost:8080/",
     "height": 465
    },
    "id": "Jss0Ji-KkCmz",
    "outputId": "e9155564-edb2-45bb-9e79-3b1968aa47f3"
   },
   "outputs": [],
   "source": [
    "gapminder_2002['above_70'] = (gapminder_2002['lifeExp'] >= 70).replace({True: 'Above 70', False: 'Below 70'})\n",
    "gapminder_count2 = pd.DataFrame({'n': gapminder_2002.groupby(['above_70', 'continent']).size()}).reset_index()\n",
    "gapminder_count2"
   ]
  },
  {
   "cell_type": "code",
   "execution_count": null,
   "metadata": {
    "id": "fq8KY5RtkCmz"
   },
   "outputs": [],
   "source": [
    "#solution\n",
    "gapminder_count2['cum_n'] = gapminder_count2.groupby('above_70')['n'].apply(lambda x: x[::-1].cumsum()[::-1])"
   ]
  },
  {
   "cell_type": "code",
   "execution_count": null,
   "metadata": {
    "colab": {
     "base_uri": "https://localhost:8080/",
     "height": 262
    },
    "id": "yiUEP_SjkCmz",
    "outputId": "ae381019-f927-4ee6-e4c9-327b9943a1b9"
   },
   "outputs": [],
   "source": [
    "#solution\n",
    "plt.barh(gapminder_count2['above_70'], gapminder_count2['cum_n'], color=gapminder_count2['continent'].map(continent_colors));"
   ]
  },
  {
   "cell_type": "markdown",
   "metadata": {
    "id": "1kUMiwyskCm0"
   },
   "source": [
    "### Pie plot\n",
    "\n",
    "A pie plot can be seen as a stacked plot... in polar coordinates... which hides the total number information:\n"
   ]
  },
  {
   "cell_type": "code",
   "execution_count": null,
   "metadata": {
    "colab": {
     "base_uri": "https://localhost:8080/",
     "height": 248
    },
    "id": "WyLB5cIhkCm0",
    "outputId": "f6ee5ddf-ceaa-434b-fda5-18514e6734d4"
   },
   "outputs": [],
   "source": [
    "plt.pie(gapminder_count['n'], colors=gapminder_count['continent'].map(continent_colors), autopct='%1.1f%%', labels=gapminder_count['continent']);"
   ]
  },
  {
   "cell_type": "markdown",
   "metadata": {
    "id": "cbysg2xIkCm0"
   },
   "source": [
    "22. Produce a pie for each life expectancy category."
   ]
  },
  {
   "cell_type": "code",
   "execution_count": null,
   "metadata": {
    "colab": {
     "base_uri": "https://localhost:8080/",
     "height": 198
    },
    "id": "kH1dvdbfkCm0",
    "outputId": "07633086-72aa-4d71-e2a6-a1e9e44eac28"
   },
   "outputs": [],
   "source": [
    "#solution\n"
   ]
  },
  {
   "cell_type": "markdown",
   "metadata": {
    "id": "JY6aShbmkCm1"
   },
   "source": [
    "## Quantities\n"
   ]
  },
  {
   "cell_type": "markdown",
   "metadata": {
    "id": "mU4RSUgWkCm1"
   },
   "source": [
    "## Bar plot\n",
    "\n",
    "This is very similar to counts, except that the bar surface is proportional \n",
    "to a arbitrary quantity rather than a count."
   ]
  },
  {
   "cell_type": "markdown",
   "metadata": {
    "id": "9ZUzDmKzkCm1"
   },
   "source": [
    "23. Visualize the gdpPercap by continent\n",
    "\n",
    "__Hint:__ You should use a weighted mean rather than a classical one.\n"
   ]
  },
  {
   "cell_type": "code",
   "execution_count": null,
   "metadata": {
    "id": "LZYm_MT1kCm1"
   },
   "outputs": [],
   "source": [
    "#solution\n",
    "gapminder_2002_continent = gapminder_2002.groupby('continent').\\\n",
    "    apply(lambda df: pd.Series({'gdpPercap': (df['gdpPercap'] * df['pop']).sum() / df['pop'].sum()})).\\\n",
    "    reset_index()"
   ]
  },
  {
   "cell_type": "code",
   "execution_count": null,
   "metadata": {
    "colab": {
     "base_uri": "https://localhost:8080/",
     "height": 280
    },
    "id": "1keYSqB1kCm2",
    "outputId": "218c6b4b-ae84-4684-b22d-4ac4588d8f34"
   },
   "outputs": [],
   "source": [
    "#solution\n",
    "plt.barh(gapminder_2002_continent['continent'], gapminder_2002_continent['gdpPercap'])"
   ]
  },
  {
   "cell_type": "markdown",
   "metadata": {
    "id": "CPBOZJitkCm2"
   },
   "source": [
    "24. Order the plot by gdp per capita\n",
    "\n",
    "__Hint:__ Use `sort_values`."
   ]
  },
  {
   "cell_type": "code",
   "execution_count": null,
   "metadata": {
    "id": "xkBXkyA2kCm2"
   },
   "outputs": [],
   "source": [
    "gapminder_2002_continent = gapminder_2002_continent.sort_values('gdpPercap')"
   ]
  },
  {
   "cell_type": "code",
   "execution_count": null,
   "metadata": {
    "id": "4ayRuztLkCm2",
    "outputId": "69fa2608-f35c-42c5-b224-7b6215900754"
   },
   "outputs": [],
   "source": [
    "plt.barh(gapminder_2002_continent['continent'], gapminder_2002_continent['gdpPercap'])"
   ]
  },
  {
   "cell_type": "markdown",
   "metadata": {
    "id": "cNiVmyMLkCm2"
   },
   "source": [
    "### Distributions\n",
    "\n",
    "Instead of a summary, we may be interested in the _repartition_ of the values."
   ]
  },
  {
   "cell_type": "markdown",
   "metadata": {
    "id": "r3YlMcudkCm3"
   },
   "source": [
    "#### Histogram\n",
    "\n",
    "This is a count plot in which the bins are of the same (arbitrary) width."
   ]
  },
  {
   "cell_type": "code",
   "execution_count": null,
   "metadata": {
    "id": "hik6e_MskCm3",
    "outputId": "c2afba54-52ff-4c75-c39a-467b2b06af86"
   },
   "outputs": [],
   "source": [
    "plt.hist(gapminder_2002['gdpPercap'])"
   ]
  },
  {
   "cell_type": "markdown",
   "metadata": {
    "id": "Nbn9ePVgkCm3"
   },
   "source": [
    "25. Specify the bins so that they starts at 0 and are of width 5000.\n",
    "\n",
    "__Hint:__ Use `np.arange` and the `bins` keyword."
   ]
  },
  {
   "cell_type": "code",
   "execution_count": null,
   "metadata": {
    "id": "vihWalBDkCm3",
    "outputId": "f7633b27-d86a-4de1-957b-dc4b71c8d032"
   },
   "outputs": [],
   "source": [
    "#solution\n",
    "bins = np.arange(0, 50001, 5000)\n",
    "plt.hist(gapminder_2002['gdpPercap'], bins=bins);"
   ]
  },
  {
   "cell_type": "markdown",
   "metadata": {
    "id": "woF43NPKkCm3"
   },
   "source": [
    "26. What happens if we choose the binwidth equal to 100?"
   ]
  },
  {
   "cell_type": "code",
   "execution_count": null,
   "metadata": {
    "id": "7t-Ici9qkCm3",
    "outputId": "1cf71430-3090-4768-91ac-c54fc8963341"
   },
   "outputs": [],
   "source": [
    "#solution\n",
    "bins = np.arange(0, 50001, 100)\n",
    "plt.hist(gapminder_2002['gdpPercap'], bins=bins);"
   ]
  },
  {
   "cell_type": "markdown",
   "metadata": {
    "id": "WDwfkAVtkCm4"
   },
   "source": [
    "One can add the continent information by splitting the data into buckets:"
   ]
  },
  {
   "cell_type": "code",
   "execution_count": null,
   "metadata": {
    "id": "VCsBR6fjkCm4"
   },
   "outputs": [],
   "source": [
    "slice = [ df['gdpPercap'] for s, df in gapminder_2002.groupby('continent')]\n",
    "slice_name = [s for s, df in gapminder_2002.groupby('continent')]"
   ]
  },
  {
   "cell_type": "code",
   "execution_count": null,
   "metadata": {
    "id": "DTqIDR9nkCm4",
    "outputId": "7d5a80c4-e016-42e7-ac0c-534fb75ded56"
   },
   "outputs": [],
   "source": [
    "plt.hist(slice);"
   ]
  },
  {
   "cell_type": "markdown",
   "metadata": {
    "id": "el5u60uQkCm5"
   },
   "source": [
    "27. By default, this is a dogded bar plot. How to obtain its stacked version.\n",
    "\n",
    "__Hint:__ Use the `stacked` keyword.\n"
   ]
  },
  {
   "cell_type": "code",
   "execution_count": null,
   "metadata": {
    "id": "RwtRNYFXkCm5",
    "outputId": "98e6705b-7e30-4998-b016-0563991028bf"
   },
   "outputs": [],
   "source": [
    "plt.hist(slice, stacked=True);"
   ]
  },
  {
   "cell_type": "markdown",
   "metadata": {
    "id": "ZwjjdgwDkCm5"
   },
   "source": [
    "28. Use the facetting system to obtain an histogram by continent.\n"
   ]
  },
  {
   "cell_type": "code",
   "execution_count": null,
   "metadata": {
    "id": "dz2CmajSkCm5",
    "outputId": "0d6414fc-d972-471c-e6bd-45d6d2cb01a4"
   },
   "outputs": [],
   "source": [
    "#solution\n",
    "bins = np.arange(0, 50001, 5000)\n",
    "gapminder_2002_continent = gapminder_2002.groupby('continent')\n",
    "fig, axs = plt.subplots(nrows=1 + (gapminder_2002_continent.ngroups - 1) // 2, ncols=2, \n",
    "                        sharex=True, sharey=True, figsize=(10,10))\n",
    "axs_flat = axs.flatten()\n",
    "for i, (continent, data) in enumerate(gapminder_2002_continent):\n",
    "    axs_flat[i].hist(data['gdpPercap'], bins=bins)\n",
    "    axs_flat[i].set_title(f'{continent}')\n",
    "if (axs_flat.size > gapminder_2002_continent.ngroups):\n",
    "    for i in range(gapminder_2002_continent.ngroups, axs_flat.size):\n",
    "        axs_flat[i].remove()\n",
    "    last_but_one_row = (gapminder_2002_continent.ngroups - 1) // 2\n",
    "    if (last_but_one_row > 0):\n",
    "        for i in range((last_but_one_row - 1) * 2 , last_but_one_row * 2):\n",
    "            if (i + 2 >= gapminder_2002_continent.ngroups):\n",
    "                axs_flat[i].tick_params(labelbottom=True)"
   ]
  },
  {
   "cell_type": "markdown",
   "metadata": {
    "id": "TUK-KDo2kCm6"
   },
   "source": [
    "Note that __seaborn__ proposes an alternative way to define those faceted plots:"
   ]
  },
  {
   "cell_type": "code",
   "execution_count": null,
   "metadata": {
    "id": "T0-Ns2_3kCm6"
   },
   "outputs": [],
   "source": [
    "def plot_hist(**kwargs):\n",
    "    data = kwargs.pop('data')\n",
    "    ax = plt.gca()\n",
    "    ax.hist(data['gdpPercap'], bins=bins)  "
   ]
  },
  {
   "cell_type": "code",
   "execution_count": null,
   "metadata": {
    "id": "1bYZVTibkCm6",
    "outputId": "98815af6-cf84-475f-b30f-cd5e7e33f5e2"
   },
   "outputs": [],
   "source": [
    "g = sns.FacetGrid(gapminder_2002, col='continent', col_wrap=2)\n",
    "g.map_dataframe(plot_hist)"
   ]
  },
  {
   "cell_type": "markdown",
   "metadata": {
    "id": "usXbivoQkCm6"
   },
   "source": [
    "### Density\n",
    "\n",
    "Density can be seen as _smoothed_ version of histogram. \n",
    "The main difference is that they are renormalized so that \n",
    "the integral under the density curve is equal to 1."
   ]
  },
  {
   "cell_type": "code",
   "execution_count": null,
   "metadata": {
    "id": "pAl8Kdb0kCm6",
    "outputId": "770a1833-321e-41a4-f2de-ef9a58a85a29"
   },
   "outputs": [],
   "source": [
    "sns.kdeplot(gapminder_2002['gdpPercap'], legend=False)"
   ]
  },
  {
   "cell_type": "markdown",
   "metadata": {
    "id": "pZa78m7ckCm6"
   },
   "source": [
    "29. Renormalize the histogram so that the total area of the bars is equal to 1\n",
    "\n",
    "__Hint:__ You can use the 'density' keyword"
   ]
  },
  {
   "cell_type": "code",
   "execution_count": null,
   "metadata": {
    "id": "eY85O88IkCm6",
    "outputId": "5154068b-ce4d-4c1d-a437-c7547cba3a2e"
   },
   "outputs": [],
   "source": [
    "#solution\n",
    "bins = np.arange(0, 50001, 5000)\n",
    "plt.hist(gapminder_2002['gdpPercap'], bins=bins, density=True);"
   ]
  },
  {
   "cell_type": "markdown",
   "metadata": {
    "id": "iaP758p5kCm7"
   },
   "source": [
    "30. Superpose the density plots for the different continents."
   ]
  },
  {
   "cell_type": "code",
   "execution_count": null,
   "metadata": {
    "id": "vA5HzvLKkCm7",
    "outputId": "badf6483-56bc-4937-f671-67949eef5fcf"
   },
   "outputs": [],
   "source": [
    "for continent, df  in gapminder_2002.groupby('continent'):\n",
    "    sns.kdeplot(df['gdpPercap'], label=continent)"
   ]
  },
  {
   "cell_type": "markdown",
   "metadata": {
    "id": "s_OE4UcckCm8"
   },
   "source": [
    "31. Propose a facet plot."
   ]
  },
  {
   "cell_type": "code",
   "execution_count": null,
   "metadata": {
    "id": "Skl2907SkCm8"
   },
   "outputs": [],
   "source": [
    "def plot_kde(** kwargs):\n",
    "    data = kwargs.pop('data')\n",
    "    ax = plt.gca()\n",
    "    sns.kdeplot(data['gdpPercap'], ax=ax)"
   ]
  },
  {
   "cell_type": "code",
   "execution_count": null,
   "metadata": {
    "id": "DoV1KZQUkCm8",
    "outputId": "be39116d-1246-426a-e29a-2ea133cc515f"
   },
   "outputs": [],
   "source": [
    "g = sns.FacetGrid(gapminder_2002, col='continent', col_wrap=2)\n",
    "g.map_dataframe(plot_kde)"
   ]
  },
  {
   "cell_type": "markdown",
   "metadata": {
    "id": "_rVZDTh-kCm8"
   },
   "source": [
    "### Interactions\n",
    "\n",
    "Our final type of visualization is for the interaction bewteen two variables.\n",
    "Something we may have already seen before...\n",
    "\n",
    "#### Box plot\n",
    "\n",
    "The most classical representation of the interaction between a categorical variable\n",
    "and a continuous one is the box plot:"
   ]
  },
  {
   "cell_type": "code",
   "execution_count": null,
   "metadata": {
    "id": "sfW5BwjqkCm8",
    "outputId": "951e7b55-086a-448a-cecd-6f8ca98c8ab8"
   },
   "outputs": [],
   "source": [
    "box = plt.boxplot(slice, labels=slice_name, patch_artist=True, medianprops = {'color': 'black'})\n",
    "for patch, continent in zip(box['boxes'], slice_name):\n",
    "    patch.set_facecolor(continent_colors[continent])"
   ]
  },
  {
   "cell_type": "code",
   "execution_count": null,
   "metadata": {
    "id": "HFHllmTDkCm9",
    "outputId": "68b29063-1196-4474-edbb-9f573d1ea8ca"
   },
   "outputs": [],
   "source": [
    "sns.boxplot(gapminder_2002['continent'], gapminder_2002['gdpPercap'], order=slice_name,\n",
    "palette=continent_colors)"
   ]
  },
  {
   "cell_type": "markdown",
   "metadata": {
    "id": "90YiQ6jtkCm9"
   },
   "source": [
    "32. Can you see what is in its modern companion the violin plot?\n",
    "\n",
    "__Hint:__ There may be similarities with the graph of 31."
   ]
  },
  {
   "cell_type": "code",
   "execution_count": null,
   "metadata": {
    "id": "qtBHFTT-kCm9",
    "outputId": "a03a5b18-2ee1-46c8-e729-2228f39e26de"
   },
   "outputs": [],
   "source": []
  },
  {
   "cell_type": "markdown",
   "metadata": {
    "id": "SMD3-BQrkCm9"
   },
   "source": [
    "#### Line plot\n",
    "\n",
    "Last but not least, one can visualize the evolution of a continuous variable\n",
    "with respect to another one using a line plot: "
   ]
  },
  {
   "cell_type": "code",
   "execution_count": null,
   "metadata": {
    "id": "WzWoxSsikCm-",
    "outputId": "4f175052-1301-4a5f-b93a-0f322da98dab"
   },
   "outputs": [],
   "source": [
    "for continent, df in gapminder.groupby('continent'):\n",
    "    plt.scatter(df['year'], df['gdpPercap'], c=continent_colors[continent])\n",
    "    for country, df2 in df.groupby('country'):\n",
    "        plt.plot(df2['year'], df2['gdpPercap'], c=continent_colors[continent])\n",
    "        "
   ]
  },
  {
   "cell_type": "markdown",
   "metadata": {
    "id": "Wjluv467kCm-"
   },
   "source": [
    "33. Can you add a regression line for each continent to the scatter plot?\n",
    "\n",
    "__Hint__ `sns.regplot` can be useful."
   ]
  },
  {
   "cell_type": "code",
   "execution_count": null,
   "metadata": {
    "id": "xuxbKk41kCm-",
    "outputId": "6942cf22-3871-447b-dbf4-be78e7350294"
   },
   "outputs": [],
   "source": []
  },
  {
   "cell_type": "code",
   "execution_count": null,
   "metadata": {},
   "outputs": [],
   "source": []
  }
 ],
 "metadata": {
  "colab": {
   "collapsed_sections": [
    "JY6aShbmkCm1",
    "cNiVmyMLkCm2",
    "r3YlMcudkCm3",
    "usXbivoQkCm6",
    "_rVZDTh-kCm8",
    "SMD3-BQrkCm9"
   ],
   "name": "gapminder.ipynb",
   "provenance": []
  },
  "file_extension": ".py",
  "kernelspec": {
   "display_name": "Python 3",
   "language": "python",
   "name": "python3"
  },
  "language_info": {
   "codemirror_mode": {
    "name": "ipython",
    "version": 3
   },
   "file_extension": ".py",
   "mimetype": "text/x-python",
   "name": "python",
   "nbconvert_exporter": "python",
   "pygments_lexer": "ipython3",
   "version": "3.8.8"
  },
  "mimetype": "text/x-python",
  "name": "python",
  "npconvert_exporter": "python",
  "pygments_lexer": "ipython3",
  "version": 3
 },
 "nbformat": 4,
 "nbformat_minor": 1
}
