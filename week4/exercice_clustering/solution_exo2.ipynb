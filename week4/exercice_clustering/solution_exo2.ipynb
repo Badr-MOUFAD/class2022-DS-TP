{
 "cells": [
  {
   "cell_type": "code",
   "execution_count": null,
   "metadata": {},
   "outputs": [],
   "source": [
    "# imports\n",
    "import numpy as np\n",
    "import pandas as pd"
   ]
  },
  {
   "cell_type": "code",
   "execution_count": null,
   "metadata": {},
   "outputs": [],
   "source": [
    "# load data\n",
    "df_cities = pd.read_csv(\n",
    "    # path\n",
    "    \"./J18_E2_coordinates_morroco.csv\",\n",
    "    # seperator\n",
    "    sep=','\n",
    ")"
   ]
  },
  {
   "cell_type": "code",
   "execution_count": null,
   "metadata": {},
   "outputs": [],
   "source": [
    "df_cities.info()"
   ]
  },
  {
   "cell_type": "code",
   "execution_count": null,
   "metadata": {},
   "outputs": [],
   "source": [
    "df_cities.dropna(\n",
    "    axis=0,\n",
    "    subset=[\"population\"],\n",
    "    inplace=True\n",
    ")"
   ]
  },
  {
   "cell_type": "code",
   "execution_count": null,
   "metadata": {},
   "outputs": [],
   "source": [
    "import plotly.express as px\n",
    "\n",
    "fig = px.scatter_geo(\n",
    "    df_cities,\n",
    "    lat=\"lat\",\n",
    "    lon=\"lng\",\n",
    "    hover_name=\"city\"\n",
    ")\n",
    "\n",
    "fig.show()"
   ]
  },
  {
   "cell_type": "code",
   "execution_count": null,
   "metadata": {},
   "outputs": [],
   "source": [
    "# params of clustering\n",
    "metric = \"euclidean\"\n",
    "linkage_method = \"complete\""
   ]
  },
  {
   "cell_type": "code",
   "execution_count": null,
   "metadata": {},
   "outputs": [],
   "source": [
    "from scipy.cluster.hierarchy import dendrogram, linkage\n",
    "from matplotlib import pyplot as plt\n",
    "\n",
    "Z = linkage(\n",
    "    df_cities[[\"lat\", \"lng\"]],\n",
    "    metric=metric, \n",
    "    method=linkage_method\n",
    ")\n",
    "\n",
    "# fig = plt.figure(figsize=(25, 10))\n",
    "dn = dendrogram(Z)"
   ]
  },
  {
   "cell_type": "code",
   "execution_count": null,
   "metadata": {},
   "outputs": [],
   "source": [
    "# make 4 clusters\n",
    "from sklearn.cluster import AgglomerativeClustering\n",
    "\n",
    "nb_clusters = 4\n",
    "\n",
    "# init clustering model\n",
    "model = AgglomerativeClustering(\n",
    "    n_clusters=nb_clusters, \n",
    "    linkage=linkage_method, \n",
    "    affinity=metric\n",
    ")\n",
    "\n",
    "# fit the model\n",
    "labels = model.fit_predict(\n",
    "    df_cities[[\"lat\", \"lng\"]]\n",
    ")\n",
    "\n",
    "# save labels\n",
    "df_cities[\"labels\"] = labels\n",
    "\n",
    "# convert to category\n",
    "df_cities[\"labels\"] = df_cities[\"labels\"].astype(str)"
   ]
  },
  {
   "cell_type": "code",
   "execution_count": null,
   "metadata": {},
   "outputs": [],
   "source": [
    "import plotly.express as px\n",
    "\n",
    "fig = px.scatter_geo(\n",
    "    df_cities,\n",
    "    lat=\"lat\",\n",
    "    lon=\"lng\",\n",
    "    color=\"labels\",\n",
    "    hover_name=\"city\"\n",
    ")\n",
    "\n",
    "fig.show()"
   ]
  }
 ],
 "metadata": {
  "interpreter": {
   "hash": "1e915f0a29dc84041eaeb02b7b1a21c440e37a87b61d44d5e84a515737dc82bc"
  },
  "kernelspec": {
   "display_name": "Python 3.8.5 64-bit ('base': conda)",
   "name": "python3"
  },
  "language_info": {
   "codemirror_mode": {
    "name": "ipython",
    "version": 3
   },
   "file_extension": ".py",
   "mimetype": "text/x-python",
   "name": "python",
   "nbconvert_exporter": "python",
   "pygments_lexer": "ipython3",
   "version": "3.8.5"
  },
  "orig_nbformat": 4
 },
 "nbformat": 4,
 "nbformat_minor": 2
}
