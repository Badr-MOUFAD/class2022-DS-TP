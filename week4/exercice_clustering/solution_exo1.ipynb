{
 "cells": [
  {
   "cell_type": "code",
   "execution_count": null,
   "metadata": {},
   "outputs": [],
   "source": [
    "# imports\n",
    "import numpy as np             \n",
    "import matplotlib.pyplot as plt\n",
    "import numpy.random as nprand  \n",
    "import scipy.ndimage as scim   \n",
    "import matplotlib.pyplot"
   ]
  },
  {
   "cell_type": "code",
   "execution_count": null,
   "metadata": {},
   "outputs": [],
   "source": [
    "# function to visualize images\n",
    "def showImage3channels(InputImage):\n",
    "  plt.figure(1)\n",
    "  plt.imshow(InputImage[:,:,0],cmap='Greys')\n",
    "  plt.title('channel 1: red')\n",
    "  plt.colorbar()\n",
    "  \n",
    "  plt.figure(2)\n",
    "  plt.imshow(InputImage[:,:,1],cmap='Greys')\n",
    "  plt.title('channel 2: green')\n",
    "  plt.colorbar()\n",
    "  \n",
    "  plt.figure(3)\n",
    "  plt.imshow(InputImage[:,:,2],cmap='Greys')\n",
    "  plt.title('channel 3: blue')\n",
    "  plt.colorbar()\n",
    "  \n",
    "  plt.show()\n",
    "\n",
    "\n",
    "def showImage1channel(InputImage):\n",
    "  imgplot = plt.imshow(InputImage,cmap='Greys')\n",
    "  #imgplot = plt.imshow(InputImage)\n",
    "  plt.colorbar()\n",
    "  plt.show()"
   ]
  },
  {
   "cell_type": "code",
   "execution_count": null,
   "metadata": {},
   "outputs": [],
   "source": [
    "# show image\n",
    "Im2 = plt.imread('J18_E1_kmeans.jpg')\n",
    "Im = Im2 * 1.\n",
    "showImage3channels(Im)"
   ]
  },
  {
   "cell_type": "code",
   "execution_count": null,
   "metadata": {},
   "outputs": [],
   "source": [
    "# reshape image\n",
    "Im_reshaped = Im.reshape(298 * 450, 3)\n"
   ]
  },
  {
   "cell_type": "code",
   "execution_count": null,
   "metadata": {},
   "outputs": [],
   "source": [
    "Im_reshaped[:, 1]"
   ]
  },
  {
   "cell_type": "code",
   "execution_count": null,
   "metadata": {},
   "outputs": [],
   "source": [
    "# verify\n",
    "showImage1channel(\n",
    "    Im_reshaped[:, 0].reshape(298, 450)\n",
    ")"
   ]
  },
  {
   "cell_type": "code",
   "execution_count": null,
   "metadata": {},
   "outputs": [],
   "source": [
    "black_white = (Im_reshaped[:, 0] + Im_reshaped[:, 1] + Im_reshaped[:, 2]) / 3"
   ]
  },
  {
   "cell_type": "code",
   "execution_count": null,
   "metadata": {},
   "outputs": [],
   "source": [
    "showImage1channel(\n",
    "    255 - black_white.reshape(298, 450)\n",
    ")"
   ]
  },
  {
   "cell_type": "code",
   "execution_count": null,
   "metadata": {},
   "outputs": [],
   "source": []
  }
 ],
 "metadata": {
  "interpreter": {
   "hash": "1e915f0a29dc84041eaeb02b7b1a21c440e37a87b61d44d5e84a515737dc82bc"
  },
  "kernelspec": {
   "display_name": "Python 3.8.5 64-bit ('base': conda)",
   "name": "python3"
  },
  "language_info": {
   "codemirror_mode": {
    "name": "ipython",
    "version": 3
   },
   "file_extension": ".py",
   "mimetype": "text/x-python",
   "name": "python",
   "nbconvert_exporter": "python",
   "pygments_lexer": "ipython3",
   "version": "3.8.5"
  },
  "orig_nbformat": 4
 },
 "nbformat": 4,
 "nbformat_minor": 2
}
