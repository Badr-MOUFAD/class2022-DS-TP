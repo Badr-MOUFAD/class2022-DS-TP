{
 "cells": [
  {
   "cell_type": "markdown",
   "metadata": {
    "id": "68xiZdqGWkeO"
   },
   "source": [
    "# Régression multiple en Python : Exemple du jeu de données ozone\n",
    "\n",
    "\n",
    "La pollution de l’air constitue actuellement une des préoccupations majeures de santé publique. De nombreuses études épidémiologiques ont permis de mettre en évidence l’influence sur la santé de certains composés chimiques comme le dioxyde de souffre (SO2), le dioxyde d’azote (NO2), l’ozone (O3) ou des particules sous forme de poussières contenues dans l’air.\n",
    "\n",
    "Des associations de surveillance de la qualité de l’air existent sur tout le territoire français et mesurent la concentration des polluants. Elles enregistrent également les conditions météorologiques comme la température, la nébulosité, le vent, etc.\n",
    "\n",
    "Nous souhaitons analyser ici la relation entre le maximum journalier de la concentration en ozone (en μg/m3) et la température. Nous disposons de 112 données relevées durant l’été 2001 à Rennes. Nous souhaitons analyser ici la relation entre le maximum journalier de la concen- tration en ozone (en μg/m3) et la température à différentes heures de la journée, la nébulosité à différentes heures de la journée, la projection du vent sur l’axe Est-Ouest à différentes heures de la journée et la concentration maximale de la veille du jour considéré. Nous disposons de 112 données relevées durant l’été 2001."
   ]
  },
  {
   "cell_type": "markdown",
   "metadata": {
    "id": "BiTFjBICXBc-"
   },
   "source": [
    "Nous supposons donc que les n données collectées suivent le modèle suivant :\n",
    "\n",
    "$$y_i = \\beta_0 +\\beta_1x_{i1} + ... + \\beta_px_{ip} + \\epsilon_i,\\; i=1,\\ldots,n, $$\n",
    "où $x_{ij}$ est la valeur prise par l’individu $i$ pour la variable $j$, les valeurs $x_{ij}$ étant rangées dans la matrice du plan d’expérience notée $X$. Les paramètres $\\beta_j$ du modèle sont inconnus et à estimer. Le paramètre $\\beta_0$ (intercept dans les logiciels anglo-saxons) correspond à la constante du modèle. Les $\\epsilon_i$ sont des variables aléatoires inconnues et représentent les erreurs de mesure.\n"
   ]
  },
  {
   "cell_type": "markdown",
   "metadata": {
    "id": "_9LxywuXXj0p"
   },
   "source": [
    "1. Chargement des librairies et des données"
   ]
  },
  {
   "cell_type": "code",
   "execution_count": null,
   "metadata": {
    "colab": {
     "base_uri": "https://localhost:8080/"
    },
    "executionInfo": {
     "elapsed": 2012,
     "status": "ok",
     "timestamp": 1631171087917,
     "user": {
      "displayName": "Geneviève Robin",
      "photoUrl": "https://lh3.googleusercontent.com/a-/AOh14Gi8xDEEkOzjQYNxOC5fEc0HBr94AkmmHjNO-6_UQw=s64",
      "userId": "02782075695807879862"
     },
     "user_tz": -120
    },
    "id": "RK3g50iG4dNP",
    "outputId": "04a8379d-3b92-496c-cb62-9b2e9edb0a40"
   },
   "outputs": [
    {
     "name": "stderr",
     "output_type": "stream",
     "text": [
      "/usr/local/lib/python3.7/dist-packages/statsmodels/tools/_testing.py:19: FutureWarning: pandas.util.testing is deprecated. Use the functions in the public API at pandas.testing instead.\n",
      "  import pandas.util.testing as tm\n"
     ]
    }
   ],
   "source": [
    "import statsmodels.api as sm\n",
    "import pandas as pd"
   ]
  },
  {
   "cell_type": "markdown",
   "metadata": {
    "id": "k0cHgVXPYWJ6"
   },
   "source": [
    "Pour accéder aux données enregistrées sur votre *drive*, il faut exécuter :"
   ]
  },
  {
   "cell_type": "code",
   "execution_count": 65,
   "metadata": {
    "colab": {
     "base_uri": "https://localhost:8080/"
    },
    "executionInfo": {
     "elapsed": 312,
     "status": "ok",
     "timestamp": 1631173130650,
     "user": {
      "displayName": "Geneviève Robin",
      "photoUrl": "https://lh3.googleusercontent.com/a-/AOh14Gi8xDEEkOzjQYNxOC5fEc0HBr94AkmmHjNO-6_UQw=s64",
      "userId": "02782075695807879862"
     },
     "user_tz": -120
    },
    "id": "9SwraSqoYcg3",
    "outputId": "86357321-0972-48fd-a2c8-239c4abc2eff"
   },
   "outputs": [
    {
     "name": "stdout",
     "output_type": "stream",
     "text": [
      "Drive already mounted at /content/drive; to attempt to forcibly remount, call drive.mount(\"/content/drive\", force_remount=True).\n"
     ]
    }
   ],
   "source": [
    "from google.colab import drive\n",
    "drive.mount('/content/drive')"
   ]
  },
  {
   "cell_type": "code",
   "execution_count": 67,
   "metadata": {
    "executionInfo": {
     "elapsed": 326,
     "status": "ok",
     "timestamp": 1631173172234,
     "user": {
      "displayName": "Geneviève Robin",
      "photoUrl": "https://lh3.googleusercontent.com/a-/AOh14Gi8xDEEkOzjQYNxOC5fEc0HBr94AkmmHjNO-6_UQw=s64",
      "userId": "02782075695807879862"
     },
     "user_tz": -120
    },
    "id": "9JvlbP7laG5n"
   },
   "outputs": [],
   "source": [
    "df = pd.read_csv(\"drive/MyDrive/TP_EMINES_2021/ozone.csv\", header = 0, index_col = 0)"
   ]
  },
  {
   "cell_type": "markdown",
   "metadata": {
    "id": "ohOuCvbSYkSB"
   },
   "source": [
    "Pour accéder aux données enregistrées *localement sur votre ordinateur*, exéctuer la commande ci-dessous et choisissez le fichier ozone.csv :"
   ]
  },
  {
   "cell_type": "code",
   "execution_count": 54,
   "metadata": {
    "colab": {
     "base_uri": "https://localhost:8080/",
     "height": 76,
     "resources": {
      "http://localhost:8080/nbextensions/google.colab/files.js": {
       "data": "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",
       "headers": [
        [
         "content-type",
         "application/javascript"
        ]
       ],
       "ok": true,
       "status": 200,
       "status_text": "OK"
      }
     }
    },
    "executionInfo": {
     "elapsed": 6311,
     "status": "ok",
     "timestamp": 1631172877110,
     "user": {
      "displayName": "Geneviève Robin",
      "photoUrl": "https://lh3.googleusercontent.com/a-/AOh14Gi8xDEEkOzjQYNxOC5fEc0HBr94AkmmHjNO-6_UQw=s64",
      "userId": "02782075695807879862"
     },
     "user_tz": -120
    },
    "id": "pc3Pv6r9YoGm",
    "outputId": "40f59811-1b2e-4e1b-ef81-017f04a5638d"
   },
   "outputs": [
    {
     "data": {
      "text/html": [
       "\n",
       "     <input type=\"file\" id=\"files-ee8ae8ce-be5e-416f-a1ca-15b5c2f94ad4\" name=\"files[]\" multiple disabled\n",
       "        style=\"border:none\" />\n",
       "     <output id=\"result-ee8ae8ce-be5e-416f-a1ca-15b5c2f94ad4\">\n",
       "      Upload widget is only available when the cell has been executed in the\n",
       "      current browser session. Please rerun this cell to enable.\n",
       "      </output>\n",
       "      <script src=\"/nbextensions/google.colab/files.js\"></script> "
      ],
      "text/plain": [
       "<IPython.core.display.HTML object>"
      ]
     },
     "metadata": {},
     "output_type": "display_data"
    },
    {
     "name": "stdout",
     "output_type": "stream",
     "text": [
      "Saving ozone.csv to ozone.csv\n"
     ]
    }
   ],
   "source": [
    "from google.colab import files\n",
    "uploaded = files.upload()"
   ]
  },
  {
   "cell_type": "code",
   "execution_count": 69,
   "metadata": {
    "executionInfo": {
     "elapsed": 317,
     "status": "ok",
     "timestamp": 1631173189012,
     "user": {
      "displayName": "Geneviève Robin",
      "photoUrl": "https://lh3.googleusercontent.com/a-/AOh14Gi8xDEEkOzjQYNxOC5fEc0HBr94AkmmHjNO-6_UQw=s64",
      "userId": "02782075695807879862"
     },
     "user_tz": -120
    },
    "id": "4JCvzwicbPkh"
   },
   "outputs": [],
   "source": [
    "df = pd.read_csv(\"ozone.csv\", header = 0, index_col = 0)"
   ]
  },
  {
   "cell_type": "markdown",
   "metadata": {
    "id": "DCQgS9E4b-EM"
   },
   "source": [
    "On peut maintenant inspecter le tableau de données avec info()"
   ]
  },
  {
   "cell_type": "code",
   "execution_count": 70,
   "metadata": {
    "colab": {
     "base_uri": "https://localhost:8080/"
    },
    "executionInfo": {
     "elapsed": 3,
     "status": "ok",
     "timestamp": 1631173190535,
     "user": {
      "displayName": "Geneviève Robin",
      "photoUrl": "https://lh3.googleusercontent.com/a-/AOh14Gi8xDEEkOzjQYNxOC5fEc0HBr94AkmmHjNO-6_UQw=s64",
      "userId": "02782075695807879862"
     },
     "user_tz": -120
    },
    "id": "_UACwuh8cK2S",
    "outputId": "462898da-2d30-417e-94ac-59a162cc1319"
   },
   "outputs": [
    {
     "name": "stdout",
     "output_type": "stream",
     "text": [
      "<class 'pandas.core.frame.DataFrame'>\n",
      "Int64Index: 112 entries, 20010601 to 20010930\n",
      "Data columns (total 13 columns):\n",
      " #   Column  Non-Null Count  Dtype  \n",
      "---  ------  --------------  -----  \n",
      " 0   maxO3   112 non-null    int64  \n",
      " 1   T9      112 non-null    float64\n",
      " 2   T12     112 non-null    float64\n",
      " 3   T15     112 non-null    float64\n",
      " 4   Ne9     112 non-null    int64  \n",
      " 5   Ne12    112 non-null    int64  \n",
      " 6   Ne15    112 non-null    int64  \n",
      " 7   Vx9     112 non-null    float64\n",
      " 8   Vx12    112 non-null    float64\n",
      " 9   Vx15    112 non-null    float64\n",
      " 10  maxO3v  112 non-null    int64  \n",
      " 11  vent    112 non-null    object \n",
      " 12  pluie   112 non-null    object \n",
      "dtypes: float64(6), int64(5), object(2)\n",
      "memory usage: 12.2+ KB\n"
     ]
    }
   ],
   "source": [
    "df.info()"
   ]
  },
  {
   "cell_type": "code",
   "execution_count": 71,
   "metadata": {
    "colab": {
     "base_uri": "https://localhost:8080/"
    },
    "executionInfo": {
     "elapsed": 2,
     "status": "ok",
     "timestamp": 1631173192440,
     "user": {
      "displayName": "Geneviève Robin",
      "photoUrl": "https://lh3.googleusercontent.com/a-/AOh14Gi8xDEEkOzjQYNxOC5fEc0HBr94AkmmHjNO-6_UQw=s64",
      "userId": "02782075695807879862"
     },
     "user_tz": -120
    },
    "id": "5hlXKmL6e8SX",
    "outputId": "60cbfe54-eed6-4a7d-d1d8-f4eb89993ad9"
   },
   "outputs": [
    {
     "data": {
      "text/plain": [
       "(112, 13)"
      ]
     },
     "execution_count": 71,
     "metadata": {},
     "output_type": "execute_result"
    }
   ],
   "source": [
    "df.shape"
   ]
  },
  {
   "cell_type": "code",
   "execution_count": 72,
   "metadata": {
    "colab": {
     "base_uri": "https://localhost:8080/",
     "height": 300
    },
    "executionInfo": {
     "elapsed": 4,
     "status": "ok",
     "timestamp": 1631173193494,
     "user": {
      "displayName": "Geneviève Robin",
      "photoUrl": "https://lh3.googleusercontent.com/a-/AOh14Gi8xDEEkOzjQYNxOC5fEc0HBr94AkmmHjNO-6_UQw=s64",
      "userId": "02782075695807879862"
     },
     "user_tz": -120
    },
    "id": "nIymgjsne87o",
    "outputId": "2b761f5e-fabd-496f-db49-5c3d9ce30468"
   },
   "outputs": [
    {
     "data": {
      "text/html": [
       "<div>\n",
       "<style scoped>\n",
       "    .dataframe tbody tr th:only-of-type {\n",
       "        vertical-align: middle;\n",
       "    }\n",
       "\n",
       "    .dataframe tbody tr th {\n",
       "        vertical-align: top;\n",
       "    }\n",
       "\n",
       "    .dataframe thead th {\n",
       "        text-align: right;\n",
       "    }\n",
       "</style>\n",
       "<table border=\"1\" class=\"dataframe\">\n",
       "  <thead>\n",
       "    <tr style=\"text-align: right;\">\n",
       "      <th></th>\n",
       "      <th>maxO3</th>\n",
       "      <th>T9</th>\n",
       "      <th>T12</th>\n",
       "      <th>T15</th>\n",
       "      <th>Ne9</th>\n",
       "      <th>Ne12</th>\n",
       "      <th>Ne15</th>\n",
       "      <th>Vx9</th>\n",
       "      <th>Vx12</th>\n",
       "      <th>Vx15</th>\n",
       "      <th>maxO3v</th>\n",
       "    </tr>\n",
       "  </thead>\n",
       "  <tbody>\n",
       "    <tr>\n",
       "      <th>count</th>\n",
       "      <td>112.000000</td>\n",
       "      <td>112.000000</td>\n",
       "      <td>112.000000</td>\n",
       "      <td>112.000000</td>\n",
       "      <td>112.000000</td>\n",
       "      <td>112.000000</td>\n",
       "      <td>112.000000</td>\n",
       "      <td>112.000000</td>\n",
       "      <td>112.000000</td>\n",
       "      <td>112.000000</td>\n",
       "      <td>112.000000</td>\n",
       "    </tr>\n",
       "    <tr>\n",
       "      <th>mean</th>\n",
       "      <td>90.303571</td>\n",
       "      <td>18.360714</td>\n",
       "      <td>21.526786</td>\n",
       "      <td>22.627679</td>\n",
       "      <td>4.928571</td>\n",
       "      <td>5.017857</td>\n",
       "      <td>4.830357</td>\n",
       "      <td>-1.214346</td>\n",
       "      <td>-1.611004</td>\n",
       "      <td>-1.690683</td>\n",
       "      <td>90.571429</td>\n",
       "    </tr>\n",
       "    <tr>\n",
       "      <th>std</th>\n",
       "      <td>28.187225</td>\n",
       "      <td>3.122726</td>\n",
       "      <td>4.042321</td>\n",
       "      <td>4.530859</td>\n",
       "      <td>2.594916</td>\n",
       "      <td>2.281860</td>\n",
       "      <td>2.332259</td>\n",
       "      <td>2.632742</td>\n",
       "      <td>2.795673</td>\n",
       "      <td>2.810198</td>\n",
       "      <td>28.276853</td>\n",
       "    </tr>\n",
       "    <tr>\n",
       "      <th>min</th>\n",
       "      <td>42.000000</td>\n",
       "      <td>11.300000</td>\n",
       "      <td>14.000000</td>\n",
       "      <td>14.900000</td>\n",
       "      <td>0.000000</td>\n",
       "      <td>0.000000</td>\n",
       "      <td>0.000000</td>\n",
       "      <td>-7.878500</td>\n",
       "      <td>-7.878500</td>\n",
       "      <td>-9.000000</td>\n",
       "      <td>42.000000</td>\n",
       "    </tr>\n",
       "    <tr>\n",
       "      <th>25%</th>\n",
       "      <td>70.750000</td>\n",
       "      <td>16.200000</td>\n",
       "      <td>18.600000</td>\n",
       "      <td>19.275000</td>\n",
       "      <td>3.000000</td>\n",
       "      <td>4.000000</td>\n",
       "      <td>3.000000</td>\n",
       "      <td>-3.276450</td>\n",
       "      <td>-3.564700</td>\n",
       "      <td>-3.939200</td>\n",
       "      <td>71.000000</td>\n",
       "    </tr>\n",
       "    <tr>\n",
       "      <th>50%</th>\n",
       "      <td>81.500000</td>\n",
       "      <td>17.800000</td>\n",
       "      <td>20.550000</td>\n",
       "      <td>22.050000</td>\n",
       "      <td>6.000000</td>\n",
       "      <td>5.000000</td>\n",
       "      <td>5.000000</td>\n",
       "      <td>-0.866000</td>\n",
       "      <td>-1.879400</td>\n",
       "      <td>-1.549650</td>\n",
       "      <td>82.500000</td>\n",
       "    </tr>\n",
       "    <tr>\n",
       "      <th>75%</th>\n",
       "      <td>106.000000</td>\n",
       "      <td>19.925000</td>\n",
       "      <td>23.550000</td>\n",
       "      <td>25.400000</td>\n",
       "      <td>7.000000</td>\n",
       "      <td>7.000000</td>\n",
       "      <td>7.000000</td>\n",
       "      <td>0.694600</td>\n",
       "      <td>0.000000</td>\n",
       "      <td>0.000000</td>\n",
       "      <td>106.000000</td>\n",
       "    </tr>\n",
       "    <tr>\n",
       "      <th>max</th>\n",
       "      <td>166.000000</td>\n",
       "      <td>27.000000</td>\n",
       "      <td>33.500000</td>\n",
       "      <td>35.500000</td>\n",
       "      <td>8.000000</td>\n",
       "      <td>8.000000</td>\n",
       "      <td>8.000000</td>\n",
       "      <td>5.196200</td>\n",
       "      <td>6.577800</td>\n",
       "      <td>5.000000</td>\n",
       "      <td>166.000000</td>\n",
       "    </tr>\n",
       "  </tbody>\n",
       "</table>\n",
       "</div>"
      ],
      "text/plain": [
       "            maxO3          T9         T12  ...        Vx12        Vx15      maxO3v\n",
       "count  112.000000  112.000000  112.000000  ...  112.000000  112.000000  112.000000\n",
       "mean    90.303571   18.360714   21.526786  ...   -1.611004   -1.690683   90.571429\n",
       "std     28.187225    3.122726    4.042321  ...    2.795673    2.810198   28.276853\n",
       "min     42.000000   11.300000   14.000000  ...   -7.878500   -9.000000   42.000000\n",
       "25%     70.750000   16.200000   18.600000  ...   -3.564700   -3.939200   71.000000\n",
       "50%     81.500000   17.800000   20.550000  ...   -1.879400   -1.549650   82.500000\n",
       "75%    106.000000   19.925000   23.550000  ...    0.000000    0.000000  106.000000\n",
       "max    166.000000   27.000000   33.500000  ...    6.577800    5.000000  166.000000\n",
       "\n",
       "[8 rows x 11 columns]"
      ]
     },
     "execution_count": 72,
     "metadata": {},
     "output_type": "execute_result"
    }
   ],
   "source": [
    "df.describe()"
   ]
  },
  {
   "cell_type": "markdown",
   "metadata": {
    "id": "UOmNxdJzfIwj"
   },
   "source": [
    "2. On peut à présent représenter les données graphiquement avec des histogrammes et des pairs plots"
   ]
  },
  {
   "cell_type": "code",
   "execution_count": null,
   "metadata": {
    "colab": {
     "base_uri": "https://localhost:8080/",
     "height": 669
    },
    "executionInfo": {
     "elapsed": 2734,
     "status": "ok",
     "timestamp": 1631173199198,
     "user": {
      "displayName": "Geneviève Robin",
      "photoUrl": "https://lh3.googleusercontent.com/a-/AOh14Gi8xDEEkOzjQYNxOC5fEc0HBr94AkmmHjNO-6_UQw=s64",
      "userId": "02782075695807879862"
     },
     "user_tz": -120
    },
    "id": "8xIDbJ6NfQsi",
    "outputId": "fc7984d6-0fde-4a34-9bd3-abd81252c641"
   },
   "outputs": [],
   "source": []
  },
  {
   "cell_type": "code",
   "execution_count": 75,
   "metadata": {
    "executionInfo": {
     "elapsed": 354,
     "status": "ok",
     "timestamp": 1631173249434,
     "user": {
      "displayName": "Geneviève Robin",
      "photoUrl": "https://lh3.googleusercontent.com/a-/AOh14Gi8xDEEkOzjQYNxOC5fEc0HBr94AkmmHjNO-6_UQw=s64",
      "userId": "02782075695807879862"
     },
     "user_tz": -120
    },
    "id": "E3wtTEjRgF23"
   },
   "outputs": [],
   "source": [
    "import seaborn as sns"
   ]
  },
  {
   "cell_type": "code",
   "execution_count": null,
   "metadata": {
    "colab": {
     "base_uri": "https://localhost:8080/",
     "height": 903
    },
    "executionInfo": {
     "elapsed": 11702,
     "status": "ok",
     "timestamp": 1631173262453,
     "user": {
      "displayName": "Geneviève Robin",
      "photoUrl": "https://lh3.googleusercontent.com/a-/AOh14Gi8xDEEkOzjQYNxOC5fEc0HBr94AkmmHjNO-6_UQw=s64",
      "userId": "02782075695807879862"
     },
     "user_tz": -120
    },
    "id": "UmL-he9qgAcm",
    "outputId": "f02b2fbe-a93a-4236-8690-edcc2842f245"
   },
   "outputs": [],
   "source": []
  },
  {
   "cell_type": "markdown",
   "metadata": {
    "id": "4Mmj96WkgsDx"
   },
   "source": [
    "3. On passe maintenant à l'estimation des paramètres du modèles de régression multiple. Il faut d'abord créer les matrices de design avec patsy (cf TP précédent)"
   ]
  },
  {
   "cell_type": "code",
   "execution_count": 77,
   "metadata": {
    "executionInfo": {
     "elapsed": 306,
     "status": "ok",
     "timestamp": 1631173480264,
     "user": {
      "displayName": "Geneviève Robin",
      "photoUrl": "https://lh3.googleusercontent.com/a-/AOh14Gi8xDEEkOzjQYNxOC5fEc0HBr94AkmmHjNO-6_UQw=s64",
      "userId": "02782075695807879862"
     },
     "user_tz": -120
    },
    "id": "OVrUHK0Jg7B6"
   },
   "outputs": [],
   "source": [
    "from patsy import dmatrices"
   ]
  },
  {
   "cell_type": "code",
   "execution_count": 82,
   "metadata": {
    "colab": {
     "base_uri": "https://localhost:8080/"
    },
    "executionInfo": {
     "elapsed": 311,
     "status": "ok",
     "timestamp": 1631173575603,
     "user": {
      "displayName": "Geneviève Robin",
      "photoUrl": "https://lh3.googleusercontent.com/a-/AOh14Gi8xDEEkOzjQYNxOC5fEc0HBr94AkmmHjNO-6_UQw=s64",
      "userId": "02782075695807879862"
     },
     "user_tz": -120
    },
    "id": "GSIGwRxvg7ut",
    "outputId": "af7b97fa-a6a3-4e55-e709-036f5f4489ab"
   },
   "outputs": [
    {
     "name": "stdout",
     "output_type": "stream",
     "text": [
      "<class 'pandas.core.frame.DataFrame'>\n",
      "Int64Index: 112 entries, 20010601 to 20010930\n",
      "Data columns (total 1 columns):\n",
      " #   Column  Non-Null Count  Dtype  \n",
      "---  ------  --------------  -----  \n",
      " 0   maxO3   112 non-null    float64\n",
      "dtypes: float64(1)\n",
      "memory usage: 1.8 KB\n",
      "<class 'pandas.core.frame.DataFrame'>\n",
      "Int64Index: 112 entries, 20010601 to 20010930\n",
      "Data columns (total 11 columns):\n",
      " #   Column     Non-Null Count  Dtype  \n",
      "---  ------     --------------  -----  \n",
      " 0   Intercept  112 non-null    float64\n",
      " 1   T9         112 non-null    float64\n",
      " 2   T12        112 non-null    float64\n",
      " 3   T15        112 non-null    float64\n",
      " 4   Ne9        112 non-null    float64\n",
      " 5   Ne12       112 non-null    float64\n",
      " 6   Ne15       112 non-null    float64\n",
      " 7   Vx9        112 non-null    float64\n",
      " 8   Vx12       112 non-null    float64\n",
      " 9   Vx15       112 non-null    float64\n",
      " 10  maxO3v     112 non-null    float64\n",
      "dtypes: float64(11)\n",
      "memory usage: 10.5 KB\n"
     ]
    }
   ],
   "source": [
    "y, X = dmatrices('maxO3 ~ T9 + T12 + T15 + Ne9 + Ne12 + Ne15 + Vx9 + Vx12 + Vx15 +maxO3v', data=df, return_type='dataframe')\n",
    "y.info()\n",
    "X.info()"
   ]
  },
  {
   "cell_type": "markdown",
   "metadata": {
    "id": "KAPLZMp4hkz3"
   },
   "source": [
    "Ensuite, l'estimation des paramètres par les moindres carrés se fait comme pour la régression simple avec OLS :"
   ]
  },
  {
   "cell_type": "code",
   "execution_count": 83,
   "metadata": {
    "executionInfo": {
     "elapsed": 317,
     "status": "ok",
     "timestamp": 1631173657119,
     "user": {
      "displayName": "Geneviève Robin",
      "photoUrl": "https://lh3.googleusercontent.com/a-/AOh14Gi8xDEEkOzjQYNxOC5fEc0HBr94AkmmHjNO-6_UQw=s64",
      "userId": "02782075695807879862"
     },
     "user_tz": -120
    },
    "id": "dKW-dB1NhqrH"
   },
   "outputs": [],
   "source": [
    "mod = sm.OLS(y,X)\n",
    "res = mod.fit()"
   ]
  },
  {
   "cell_type": "code",
   "execution_count": 84,
   "metadata": {
    "colab": {
     "base_uri": "https://localhost:8080/"
    },
    "executionInfo": {
     "elapsed": 315,
     "status": "ok",
     "timestamp": 1631173680674,
     "user": {
      "displayName": "Geneviève Robin",
      "photoUrl": "https://lh3.googleusercontent.com/a-/AOh14Gi8xDEEkOzjQYNxOC5fEc0HBr94AkmmHjNO-6_UQw=s64",
      "userId": "02782075695807879862"
     },
     "user_tz": -120
    },
    "id": "sHbBFVozhvt1",
    "outputId": "bc135b17-8c13-4d9c-ec6d-5605f84f769b"
   },
   "outputs": [
    {
     "data": {
      "text/plain": [
       "Intercept    12.244420\n",
       "T9           -0.019014\n",
       "T12           2.221152\n",
       "T15           0.558531\n",
       "Ne9          -2.189092\n",
       "Ne12         -0.421015\n",
       "Ne15          0.183731\n",
       "Vx9           0.947909\n",
       "Vx12          0.031198\n",
       "Vx15          0.418593\n",
       "maxO3v        0.351976\n",
       "dtype: float64"
      ]
     },
     "execution_count": 84,
     "metadata": {},
     "output_type": "execute_result"
    }
   ],
   "source": [
    "res.params"
   ]
  },
  {
   "cell_type": "markdown",
   "metadata": {
    "id": "PTEomdOmiFvb"
   },
   "source": [
    "La fonction OLS renvoie aussi de nombreuses informations utiles pour l'inférence, comme les valeurs-P et les intervalles de confiance."
   ]
  },
  {
   "cell_type": "code",
   "execution_count": 89,
   "metadata": {
    "colab": {
     "base_uri": "https://localhost:8080/",
     "height": 679
    },
    "executionInfo": {
     "elapsed": 353,
     "status": "ok",
     "timestamp": 1631173752476,
     "user": {
      "displayName": "Geneviève Robin",
      "photoUrl": "https://lh3.googleusercontent.com/a-/AOh14Gi8xDEEkOzjQYNxOC5fEc0HBr94AkmmHjNO-6_UQw=s64",
      "userId": "02782075695807879862"
     },
     "user_tz": -120
    },
    "id": "3m1hEaVRhwQ_",
    "outputId": "6d9167ac-a96c-4063-81b6-323ae6ef1ab0"
   },
   "outputs": [
    {
     "data": {
      "text/html": [
       "<table class=\"simpletable\">\n",
       "<caption>OLS Regression Results</caption>\n",
       "<tr>\n",
       "  <th>Dep. Variable:</th>          <td>maxO3</td>      <th>  R-squared:         </th> <td>   0.764</td>\n",
       "</tr>\n",
       "<tr>\n",
       "  <th>Model:</th>                   <td>OLS</td>       <th>  Adj. R-squared:    </th> <td>   0.740</td>\n",
       "</tr>\n",
       "<tr>\n",
       "  <th>Method:</th>             <td>Least Squares</td>  <th>  F-statistic:       </th> <td>   32.67</td>\n",
       "</tr>\n",
       "<tr>\n",
       "  <th>Date:</th>             <td>Thu, 09 Sep 2021</td> <th>  Prob (F-statistic):</th> <td>2.55e-27</td>\n",
       "</tr>\n",
       "<tr>\n",
       "  <th>Time:</th>                 <td>07:49:11</td>     <th>  Log-Likelihood:    </th> <td> -451.55</td>\n",
       "</tr>\n",
       "<tr>\n",
       "  <th>No. Observations:</th>      <td>   112</td>      <th>  AIC:               </th> <td>   925.1</td>\n",
       "</tr>\n",
       "<tr>\n",
       "  <th>Df Residuals:</th>          <td>   101</td>      <th>  BIC:               </th> <td>   955.0</td>\n",
       "</tr>\n",
       "<tr>\n",
       "  <th>Df Model:</th>              <td>    10</td>      <th>                     </th>     <td> </td>   \n",
       "</tr>\n",
       "<tr>\n",
       "  <th>Covariance Type:</th>      <td>nonrobust</td>    <th>                     </th>     <td> </td>   \n",
       "</tr>\n",
       "</table>\n",
       "<table class=\"simpletable\">\n",
       "<tr>\n",
       "      <td></td>         <th>coef</th>     <th>std err</th>      <th>t</th>      <th>P>|t|</th>  <th>[0.025</th>    <th>0.975]</th>  \n",
       "</tr>\n",
       "<tr>\n",
       "  <th>Intercept</th> <td>   12.2444</td> <td>   13.472</td> <td>    0.909</td> <td> 0.366</td> <td>  -14.480</td> <td>   38.969</td>\n",
       "</tr>\n",
       "<tr>\n",
       "  <th>T9</th>        <td>   -0.0190</td> <td>    1.125</td> <td>   -0.017</td> <td> 0.987</td> <td>   -2.251</td> <td>    2.213</td>\n",
       "</tr>\n",
       "<tr>\n",
       "  <th>T12</th>       <td>    2.2212</td> <td>    1.433</td> <td>    1.550</td> <td> 0.124</td> <td>   -0.621</td> <td>    5.064</td>\n",
       "</tr>\n",
       "<tr>\n",
       "  <th>T15</th>       <td>    0.5585</td> <td>    1.145</td> <td>    0.488</td> <td> 0.627</td> <td>   -1.712</td> <td>    2.829</td>\n",
       "</tr>\n",
       "<tr>\n",
       "  <th>Ne9</th>       <td>   -2.1891</td> <td>    0.938</td> <td>   -2.333</td> <td> 0.022</td> <td>   -4.050</td> <td>   -0.328</td>\n",
       "</tr>\n",
       "<tr>\n",
       "  <th>Ne12</th>      <td>   -0.4210</td> <td>    1.368</td> <td>   -0.308</td> <td> 0.759</td> <td>   -3.134</td> <td>    2.292</td>\n",
       "</tr>\n",
       "<tr>\n",
       "  <th>Ne15</th>      <td>    0.1837</td> <td>    1.003</td> <td>    0.183</td> <td> 0.855</td> <td>   -1.806</td> <td>    2.173</td>\n",
       "</tr>\n",
       "<tr>\n",
       "  <th>Vx9</th>       <td>    0.9479</td> <td>    0.912</td> <td>    1.039</td> <td> 0.301</td> <td>   -0.862</td> <td>    2.758</td>\n",
       "</tr>\n",
       "<tr>\n",
       "  <th>Vx12</th>      <td>    0.0312</td> <td>    1.055</td> <td>    0.030</td> <td> 0.976</td> <td>   -2.062</td> <td>    2.124</td>\n",
       "</tr>\n",
       "<tr>\n",
       "  <th>Vx15</th>      <td>    0.4186</td> <td>    0.916</td> <td>    0.457</td> <td> 0.649</td> <td>   -1.398</td> <td>    2.235</td>\n",
       "</tr>\n",
       "<tr>\n",
       "  <th>maxO3v</th>    <td>    0.3520</td> <td>    0.063</td> <td>    5.597</td> <td> 0.000</td> <td>    0.227</td> <td>    0.477</td>\n",
       "</tr>\n",
       "</table>\n",
       "<table class=\"simpletable\">\n",
       "<tr>\n",
       "  <th>Omnibus:</th>       <td> 8.335</td> <th>  Durbin-Watson:     </th> <td>   1.892</td>\n",
       "</tr>\n",
       "<tr>\n",
       "  <th>Prob(Omnibus):</th> <td> 0.015</td> <th>  Jarque-Bera (JB):  </th> <td>  17.369</td>\n",
       "</tr>\n",
       "<tr>\n",
       "  <th>Skew:</th>          <td> 0.045</td> <th>  Prob(JB):          </th> <td>0.000169</td>\n",
       "</tr>\n",
       "<tr>\n",
       "  <th>Kurtosis:</th>      <td> 4.927</td> <th>  Cond. No.          </th> <td>1.01e+03</td>\n",
       "</tr>\n",
       "</table><br/><br/>Warnings:<br/>[1] Standard Errors assume that the covariance matrix of the errors is correctly specified.<br/>[2] The condition number is large, 1.01e+03. This might indicate that there are<br/>strong multicollinearity or other numerical problems."
      ],
      "text/plain": [
       "<class 'statsmodels.iolib.summary.Summary'>\n",
       "\"\"\"\n",
       "                            OLS Regression Results                            \n",
       "==============================================================================\n",
       "Dep. Variable:                  maxO3   R-squared:                       0.764\n",
       "Model:                            OLS   Adj. R-squared:                  0.740\n",
       "Method:                 Least Squares   F-statistic:                     32.67\n",
       "Date:                Thu, 09 Sep 2021   Prob (F-statistic):           2.55e-27\n",
       "Time:                        07:49:11   Log-Likelihood:                -451.55\n",
       "No. Observations:                 112   AIC:                             925.1\n",
       "Df Residuals:                     101   BIC:                             955.0\n",
       "Df Model:                          10                                         \n",
       "Covariance Type:            nonrobust                                         \n",
       "==============================================================================\n",
       "                 coef    std err          t      P>|t|      [0.025      0.975]\n",
       "------------------------------------------------------------------------------\n",
       "Intercept     12.2444     13.472      0.909      0.366     -14.480      38.969\n",
       "T9            -0.0190      1.125     -0.017      0.987      -2.251       2.213\n",
       "T12            2.2212      1.433      1.550      0.124      -0.621       5.064\n",
       "T15            0.5585      1.145      0.488      0.627      -1.712       2.829\n",
       "Ne9           -2.1891      0.938     -2.333      0.022      -4.050      -0.328\n",
       "Ne12          -0.4210      1.368     -0.308      0.759      -3.134       2.292\n",
       "Ne15           0.1837      1.003      0.183      0.855      -1.806       2.173\n",
       "Vx9            0.9479      0.912      1.039      0.301      -0.862       2.758\n",
       "Vx12           0.0312      1.055      0.030      0.976      -2.062       2.124\n",
       "Vx15           0.4186      0.916      0.457      0.649      -1.398       2.235\n",
       "maxO3v         0.3520      0.063      5.597      0.000       0.227       0.477\n",
       "==============================================================================\n",
       "Omnibus:                        8.335   Durbin-Watson:                   1.892\n",
       "Prob(Omnibus):                  0.015   Jarque-Bera (JB):               17.369\n",
       "Skew:                           0.045   Prob(JB):                     0.000169\n",
       "Kurtosis:                       4.927   Cond. No.                     1.01e+03\n",
       "==============================================================================\n",
       "\n",
       "Warnings:\n",
       "[1] Standard Errors assume that the covariance matrix of the errors is correctly specified.\n",
       "[2] The condition number is large, 1.01e+03. This might indicate that there are\n",
       "strong multicollinearity or other numerical problems.\n",
       "\"\"\""
      ]
     },
     "execution_count": 89,
     "metadata": {},
     "output_type": "execute_result"
    }
   ],
   "source": [
    "res.summary()"
   ]
  },
  {
   "cell_type": "markdown",
   "metadata": {
    "id": "L46YyYbLib33"
   },
   "source": [
    "4. Commentez les résultats de la régression multiple sur les données ozone : La température a-t-elle un effet sur la concentration en ozone ? Quelles semblent être les variables les plus importantes ? Proposez des représentations graphiques."
   ]
  }
 ],
 "metadata": {
  "colab": {
   "collapsed_sections": [],
   "name": "TP2_RegressionMultivariee.ipynb",
   "provenance": []
  },
  "kernelspec": {
   "display_name": "Python 3",
   "language": "python",
   "name": "python3"
  },
  "language_info": {
   "codemirror_mode": {
    "name": "ipython",
    "version": 3
   },
   "file_extension": ".py",
   "mimetype": "text/x-python",
   "name": "python",
   "nbconvert_exporter": "python",
   "pygments_lexer": "ipython3",
   "version": "3.8.8"
  }
 },
 "nbformat": 4,
 "nbformat_minor": 1
}
