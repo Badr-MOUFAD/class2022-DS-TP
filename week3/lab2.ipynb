{
 "cells": [
  {
   "cell_type": "markdown",
   "metadata": {},
   "source": [
    "# Lab 2: Proximal gradient descent\n",
    "Author : Pierre Ablin\n",
    "\n",
    "In this lab, the goal is to implement proximal gradient descent, and look at its behavior. We will implement it for the Lasso, and some $\\ell_1$ regularized problems.\n",
    "\n",
    "\n",
    "In the following, `X` is a $n\\times p$ matrix and $y$ a vector of size `n`."
   ]
  },
  {
   "cell_type": "code",
   "execution_count": 1,
   "metadata": {},
   "outputs": [],
   "source": [
    "import numpy as np\n",
    "import matplotlib.pyplot as plt\n",
    "\n",
    "n = 5\n",
    "p = 10\n",
    "X = np.random.randn(n, p)\n",
    "y = np.random.randn(n)\n",
    "w = np.random.randn(p)\n",
    "lbda = 0.5"
   ]
  },
  {
   "cell_type": "markdown",
   "metadata": {},
   "source": [
    "**Exercise 1**: Implement an algorithm that computes the value of the lasso function, and of the gradient of the smooth part. We recall that the cost function is\n",
    "\n",
    "$$\\min_w \\frac12\\|Xw - y\\|^2 + \\lambda\\|w\\|_1$$"
   ]
  },
  {
   "cell_type": "code",
   "execution_count": 4,
   "metadata": {},
   "outputs": [],
   "source": [
    "def lasso_cost(w, X, y, lbda):\n",
    "    # smooth term\n",
    "    smooth_term = np.dot(X, w) - y\n",
    "    smooth_term = 1 / 2 * np.dot(smooth_term, smooth_term)\n",
    "\n",
    "    # not smooth term\n",
    "    not_smooth_term = lbda * abs(w).sum()\n",
    "\n",
    "    # lasso cost\n",
    "    cost = smooth_term + not_smooth_term \n",
    "\n",
    "    return cost\n",
    "\n",
    "\n",
    "def lasso_gradient(w, X, y):\n",
    "    # compute grad\n",
    "    grad = X.T @ (X @ w - y) \n",
    "\n",
    "    return grad"
   ]
  },
  {
   "cell_type": "markdown",
   "metadata": {},
   "source": [
    "**Exercise 2** Implement the proximal operator of the $\\ell_1$ norm, a.k.a. the soft thresholding operator:\n",
    "\n",
    "$$\\mathrm{ST}(x, u) = \\begin{cases}x - u \\text{ if } x > u\\\\ 0 \\text{ if } -u \\leq x \\leq u \\\\ x+ u \\text{ else}\\end{cases}$$\n",
    "\n",
    "It should be vectorized, so that when $x$ is a vector it takes the soft-threshloding of each coordinate.\n",
    "Plot it in 1-D."
   ]
  },
  {
   "cell_type": "code",
   "execution_count": 6,
   "metadata": {},
   "outputs": [],
   "source": [
    "def soft_thresholding(x, u):\n",
    "    # implementation using indicators\n",
    "    return (x - u) * (x > u) + (x + u) * (x < -u)"
   ]
  },
  {
   "cell_type": "code",
   "execution_count": 7,
   "metadata": {},
   "outputs": [
    {
     "data": {
      "text/plain": [
       "[<matplotlib.lines.Line2D at 0x1f54ab03df0>]"
      ]
     },
     "execution_count": 7,
     "metadata": {},
     "output_type": "execute_result"
    },
    {
     "data": {
      "image/png": "[encoded data removed]",
      "text/plain": [
       "<Figure size 432x288 with 1 Axes>"
      ]
     },
     "metadata": {
      "needs_background": "light"
     },
     "output_type": "display_data"
    }
   ],
   "source": [
    "# plot of soft_thresholding\n",
    "interval = [-3, 3]\n",
    "t = np.linspace(*interval)\n",
    "\n",
    "plt.plot(t, soft_thresholding(t, 1))"
   ]
  },
  {
   "cell_type": "code",
   "execution_count": null,
   "metadata": {},
   "outputs": [],
   "source": [
    "x = np.linspace(-2, 2)\n",
    "plt.plot(x, soft_thresholding(x, 1))"
   ]
  },
  {
   "cell_type": "markdown",
   "metadata": {},
   "source": [
    "**Exercise 3** Demonstrate that if $\\lambda \\geq \\lambda_{\\max} \\triangleq \\max_{i=1, \\dots, p} |[X^{\\top}y]_i|$ then $0$ is a solution of the Lasso. \n",
    "\n",
    "\n",
    "As a consequence, we take for $\\lambda$ a fraction of $\\lambda_{\\max}$, for instance $\\lambda = 0.5 \\lambda_{\\max}$:"
   ]
  },
  {
   "cell_type": "code",
   "execution_count": null,
   "metadata": {},
   "outputs": [],
   "source": [
    "lambda_max = np.max(np.abs(X.T.dot(y)))\n",
    "lbda = 0.5 * lambda_max"
   ]
  },
  {
   "cell_type": "markdown",
   "metadata": {},
   "source": [
    "**Exercise 4** Implement proximal gradient descent with a step size `step` for `n_iters` iterations, starting from $w^0=0$.  Display the evolution of $f(x_n) - f^*$ for this problem, with 100 iterations and the classical step size $1/L$. You can compute $f^*$ by running the algorithm for many iterations."
   ]
  },
  {
   "cell_type": "code",
   "execution_count": 16,
   "metadata": {},
   "outputs": [],
   "source": [
    "def proximal_gradient_descent(X, y, lbda, step=0, n_iters=100):\n",
    "    # params\n",
    "    n, p = X.shape\n",
    "    w = np.zeros(p)\n",
    "    w_list = []\n",
    "    # smoothness const\n",
    "    smoothness_const = max(np.linalg.eigvalsh(X.T @ X))\n",
    "\n",
    "    for i in range(n_iters):\n",
    "        # prox argument \n",
    "        prox_arg = w - 1 / smoothness_const * lasso_gradient(w, X, y)\n",
    "        # prox subscript\n",
    "        prox_subscript = lbda / smoothness_const\n",
    "        \n",
    "        # update omega\n",
    "        w = soft_thresholding(prox_arg, prox_subscript)\n",
    "\n",
    "        # save\n",
    "        w_list.append(w.copy())\n",
    "        \n",
    "    return w, w_list  # returns the value of w and the list of iterates"
   ]
  },
  {
   "cell_type": "code",
   "execution_count": 17,
   "metadata": {},
   "outputs": [],
   "source": [
    "step = 0 # your code here\n",
    "n_iters = 100\n",
    "w, w_list = proximal_gradient_descent(X, y, lbda, step, n_iters)"
   ]
  },
  {
   "cell_type": "code",
   "execution_count": 21,
   "metadata": {},
   "outputs": [
    {
     "data": {
      "text/plain": [
       "Text(0, 0.5, 'f - f^*')"
      ]
     },
     "execution_count": 21,
     "metadata": {},
     "output_type": "execute_result"
    },
    {
     "data": {
      "image/png": "[encoded data removed]",
      "text/plain": [
       "<Figure size 432x288 with 1 Axes>"
      ]
     },
     "metadata": {
      "needs_background": "light"
     },
     "output_type": "display_data"
    }
   ],
   "source": [
    "f_vals = np.array([lasso_cost(w, X, y, lbda) for w in w_list])\n",
    "f_star = np.min(f_vals)\n",
    "\n",
    "\n",
    "plt.semilogy(f_vals - f_star)\n",
    "plt.xlabel('iterations')\n",
    "plt.ylabel('f - f^*')"
   ]
  },
  {
   "cell_type": "code",
   "execution_count": 23,
   "metadata": {},
   "outputs": [
    {
     "data": {
      "text/plain": [
       "Text(0, 0.5, '||x - x^*||')"
      ]
     },
     "execution_count": 23,
     "metadata": {},
     "output_type": "execute_result"
    },
    {
     "data": {
      "image/png": "[encoded data removed]",
      "text/plain": [
       "<Figure size 432x288 with 1 Axes>"
      ]
     },
     "metadata": {
      "needs_background": "light"
     },
     "output_type": "display_data"
    }
   ],
   "source": [
    "w_star = w_list[-1]\n",
    "dists = [np.linalg.norm(w - w_star) for w in w_list]\n",
    "\n",
    "plt.semilogy(dists)\n",
    "plt.xlabel('iterations')\n",
    "plt.ylabel('||x - x^*||')"
   ]
  },
  {
   "cell_type": "markdown",
   "metadata": {},
   "source": [
    "**Exercise 5** what do you notice about the optimal $w$?"
   ]
  },
  {
   "cell_type": "markdown",
   "metadata": {},
   "source": [
    "**Exercice 6** Generate a problem with $n=50$, $p=100$ where the conditioning is $~1 / 100$. For various values of $\\lambda$, what convergence curves do you see?"
   ]
  },
  {
   "cell_type": "code",
   "execution_count": 76,
   "metadata": {},
   "outputs": [],
   "source": [
    "n, p = 50, 100\n",
    "\n",
    "y = np.random.randn(n)\n",
    "\n",
    "# generate random matrix X (n, p)\n",
    "random_matrix = np.random.randn(n, p)\n",
    "\n",
    "# svd decomposition\n",
    "U, _, V = np.linalg.svd(\n",
    "    random_matrix, \n",
    "    full_matrices=False\n",
    ")\n",
    "\n",
    "# create diagonal \n",
    "max_sigma = 10\n",
    "diagonal = np.array(\n",
    "    # diagonal\n",
    "    [max_sigma] + [1 for i in range(n - 1)], \n",
    "    dtype=float\n",
    ")\n",
    "\n",
    "diag_matrix = np.diag(diagonal)\n",
    "\n",
    "# create X\n",
    "X = U @ diag_matrix @ V\n"
   ]
  },
  {
   "cell_type": "code",
   "execution_count": 81,
   "metadata": {},
   "outputs": [
    {
     "data": {
      "text/plain": [
       "array([  1.,   1.,   1.,   1.,   1.,   1.,   1.,   1.,   1.,   1.,   1.,\n",
       "         1.,   1.,   1.,   1.,   1.,   1.,   1.,   1.,   1.,   1.,   1.,\n",
       "         1.,   1.,   1.,   1.,   1.,   1.,   1.,   1.,   1.,   1.,   1.,\n",
       "         1.,   1.,   1.,   1.,   1.,   1.,   1.,   1.,   1.,   1.,   1.,\n",
       "         1.,   1.,   1.,   1.,   1., 100.])"
      ]
     },
     "execution_count": 81,
     "metadata": {},
     "output_type": "execute_result"
    }
   ],
   "source": [
    "np.linalg.eigvalsh(X @ X.T)"
   ]
  },
  {
   "cell_type": "markdown",
   "metadata": {},
   "source": [
    "# Different regularizations\n",
    "\n",
    "We now consider $A$ a $p \\times p$ matrix, and consider the problem\n",
    "$$\n",
    "\\min_{w} \\frac12\\|Xw - y\\|^2 + \\lambda \\|Aw\\|_1\n",
    "$$\n",
    "\n",
    "In order to implement the proximal gradient descent, we need to compute the proximal operator of the second term.\n",
    "\n",
    "We define $R(w) = \\lambda\\|Aw\\|_1$."
   ]
  },
  {
   "cell_type": "markdown",
   "metadata": {},
   "source": [
    "**Exercise 7** Assume that $A$ is diagonal with coefficients $a_1, \\dots, a_p$. What is $\\mathrm{prox}_R(w)$?"
   ]
  },
  {
   "cell_type": "markdown",
   "metadata": {},
   "source": [
    "**Exercise 8** Assume that $A$ is orthogonal, i.e. $AA^{\\top} = I_p$. What is $\\mathrm{prox}_R(w)$?\n",
    "\n",
    "Hint: Let $\\min_{x} F(x, w)= \\frac12\\|x - w\\|^2 + \\lambda\\|Ax\\|_1$. What does the change of variable $z = Ax$ give?"
   ]
  },
  {
   "cell_type": "markdown",
   "metadata": {},
   "source": [
    "**Exercice 9** In general, when $A$ is neither diagonal nor orthogonal, we do not have a closed-form expression of the proximal operator of $R$. \n",
    "\n",
    "We can instead resort once again to an iterative algorithm to compute it.\n",
    "\n",
    "\n",
    "Prove that $\\mathrm{prox}_{\\lambda R(w)} = A^{-1} \\phi(w, A^{-1}, \\lambda)$ where $\\phi(w, B, \\lambda) = \\arg\\min_z \\frac12\\|Bz - w\\| +\\lambda \\|z\\|_1$\n",
    "\n",
    "What problem do you recognize? "
   ]
  }
 ],
 "metadata": {
  "interpreter": {
   "hash": "1e915f0a29dc84041eaeb02b7b1a21c440e37a87b61d44d5e84a515737dc82bc"
  },
  "kernelspec": {
   "display_name": "Python 3.8.5 64-bit ('base': conda)",
   "name": "python3"
  },
  "language_info": {
   "codemirror_mode": {
    "name": "ipython",
    "version": 3
   },
   "file_extension": ".py",
   "mimetype": "text/x-python",
   "name": "python",
   "nbconvert_exporter": "python",
   "pygments_lexer": "ipython3",
   "version": "3.8.5"
  }
 },
 "nbformat": 4,
 "nbformat_minor": 4
}
