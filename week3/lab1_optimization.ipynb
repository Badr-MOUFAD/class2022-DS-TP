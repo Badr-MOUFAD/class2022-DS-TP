{
 "cells": [
  {
   "cell_type": "markdown",
   "source": [
    "# Lab 1: Gradient descent\n",
    "Author : Pierre Ablin\n",
    "\n",
    "In this lab, the goal is to implement gradient descent, and look at its behavior. We will implement it for the ridge regression.\n",
    "\n",
    "\n",
    "In the following, `X` is a $n\\times p$ matrix and $y$ a vector of size `n`."
   ],
   "metadata": {}
  },
  {
   "cell_type": "code",
   "execution_count": 82,
   "source": [
    "import numpy as np\r\n",
    "import matplotlib.pyplot as plt\r\n",
    "\r\n",
    "n = 10\r\n",
    "p = 5\r\n",
    "X = np.random.randn(n, p)\r\n",
    "y = np.random.randn(n)\r\n",
    "w = np.random.randn(p)\r\n",
    "lbda = 0.5"
   ],
   "outputs": [],
   "metadata": {}
  },
  {
   "cell_type": "markdown",
   "source": [
    "**Exercise 1**: Implement an algorithm that computes the value of the ridge regression function, and of its gradient. Verify by finite difference that it is correct.\n",
    "\n",
    "$$\\min_w \\frac12\\|Xw - y\\|^2 + \\frac\\lambda 2\\|w\\|^2$$"
   ],
   "metadata": {}
  },
  {
   "cell_type": "code",
   "execution_count": 10,
   "source": [
    "def ridge_cost(\r\n",
    "    w, \r\n",
    "    X, \r\n",
    "    y, \r\n",
    "    lbda: float\r\n",
    "    ) -> float:\r\n",
    "    \"\"\"compute the ridge\r\n",
    "\r\n",
    "    Parameters\r\n",
    "    ----------\r\n",
    "    w : [type]\r\n",
    "        coefficient vector\r\n",
    "    X : [type]\r\n",
    "        observation matrix\r\n",
    "    y : [type]\r\n",
    "        true response\r\n",
    "    lbda : float\r\n",
    "        regularization coefficient\r\n",
    "\r\n",
    "    Returns\r\n",
    "    -------\r\n",
    "    float\r\n",
    "        return the ridge cost\r\n",
    "    \"\"\"\r\n",
    "    \r\n",
    "    # first term\r\n",
    "    vec_1 = (X.dot(w) - y)\r\n",
    "    vec_2 = w\r\n",
    "\r\n",
    "    return 1 / 2 * vec_1.dot(vec_1) + lbda / 2 * vec_2.dot(vec_2)\r\n",
    "\r\n",
    "\r\n",
    "def ridge_gradient(\r\n",
    "    w, \r\n",
    "    X, \r\n",
    "    y, \r\n",
    "    lbda: float\r\n",
    "    ) -> np.array:\r\n",
    "    \"\"\"compute the gradient of ridge\r\n",
    "\r\n",
    "    Parameters\r\n",
    "    ----------\r\n",
    "    w : [type]\r\n",
    "        coefficient vector\r\n",
    "    X : [type]\r\n",
    "        observation matrix\r\n",
    "    y : [type]\r\n",
    "        true response\r\n",
    "    lbda : float\r\n",
    "        the regularization coefficient\r\n",
    "\r\n",
    "    Returns\r\n",
    "    -------\r\n",
    "    np.array\r\n",
    "        returns the gradient of ridge\r\n",
    "    \"\"\"\r\n",
    "\r\n",
    "    # grad term_1\r\n",
    "    grad_1 = X.T.dot(X.dot(w) - y) \r\n",
    "    # grad term_2\r\n",
    "    grad_2 = lbda * w\r\n",
    "\r\n",
    "    return grad_1 + grad_2"
   ],
   "outputs": [],
   "metadata": {}
  },
  {
   "cell_type": "code",
   "execution_count": 11,
   "source": [
    "from scipy.optimize import check_grad\r\n",
    "\r\n",
    "check_grad(ridge_cost, ridge_gradient, w, X, y, lbda)  # should be small ! :)"
   ],
   "outputs": [
    {
     "output_type": "execute_result",
     "data": {
      "text/plain": [
       "4.3552038599648444e-07"
      ]
     },
     "metadata": {},
     "execution_count": 11
    }
   ],
   "metadata": {}
  },
  {
   "cell_type": "markdown",
   "source": [
    "**Exercise 2**: Implement an algorithm that computes the optimal value $w^*$ in closed form. Check that it works: it should cancel the gradient !"
   ],
   "metadata": {}
  },
  {
   "cell_type": "markdown",
   "source": [
    "closed form: $ \\omega = [X^{T}.X + \\lambda I_p]^{-1}.X^{T}.y$"
   ],
   "metadata": {}
  },
  {
   "cell_type": "code",
   "execution_count": 12,
   "source": [
    "def ridge_closed_form(\r\n",
    "    X, \r\n",
    "    y, \r\n",
    "    lbda: float\r\n",
    "    ) -> np.array:\r\n",
    "    \"\"\"solve analyticaly ridge problem\r\n",
    "\r\n",
    "    Parameters\r\n",
    "    ----------\r\n",
    "    X : [type]\r\n",
    "        Observation matrix\r\n",
    "    y : [type]\r\n",
    "        True response\r\n",
    "    lbda : float\r\n",
    "        coefficient of regularization\r\n",
    "\r\n",
    "    Returns\r\n",
    "    -------\r\n",
    "    np.array\r\n",
    "        returns the argmin of ridge problem\r\n",
    "    \"\"\"\r\n",
    "    \r\n",
    "    # general params\r\n",
    "    n, p = X.shape\r\n",
    "    X_trans = X.T\r\n",
    "\r\n",
    "    I_p = np.eye(\r\n",
    "        # dimension\r\n",
    "        p,\r\n",
    "        dtype=float\r\n",
    "    )\r\n",
    "\r\n",
    "    # solve\r\n",
    "    inv_matrix = np.linalg.inv(X_trans.dot(X) + lbda * I_p)\r\n",
    "    return inv_matrix.dot(X_trans).dot(y)"
   ],
   "outputs": [],
   "metadata": {}
  },
  {
   "cell_type": "code",
   "execution_count": 13,
   "source": [
    "w_star = ridge_closed_form(X, y, lbda)\r\n",
    "print(ridge_gradient(w_star, X, y, lbda))  # should be small"
   ],
   "outputs": [
    {
     "output_type": "stream",
     "name": "stdout",
     "text": [
      "[ 1.11022302e-15 -1.11022302e-15 -2.22044605e-16  1.52655666e-16\n",
      " -1.05818132e-16]\n"
     ]
    }
   ],
   "metadata": {}
  },
  {
   "cell_type": "markdown",
   "source": [
    "**Exercise 3** Implement gradient descent with a step size `step` for `n_iters` iterations, starting from $w^0=0$.  Display the evolution of $f(x_n) - f^*$ and $\\|x_n - x^*\\|$ for this problem, with 100 iterations and the classical step size $1/L$."
   ],
   "metadata": {}
  },
  {
   "cell_type": "code",
   "execution_count": 15,
   "source": [
    "def ridge_gradient_descent(\r\n",
    "    X, \r\n",
    "    y, \r\n",
    "    lbda: float, \r\n",
    "    step: float, \r\n",
    "    n_iters: int\r\n",
    "    ):\r\n",
    "    \"\"\"solve the ridge problem using gradient descent\r\n",
    "\r\n",
    "    Parameters\r\n",
    "    ----------\r\n",
    "    X : [type]\r\n",
    "        Observation matrix\r\n",
    "    y : [type]\r\n",
    "        true response\r\n",
    "    lbda : float\r\n",
    "        regularization coefficient\r\n",
    "    step : float\r\n",
    "        the rate of learning\r\n",
    "    n_iters : int\r\n",
    "        total number of iteration\r\n",
    "\r\n",
    "    Returns\r\n",
    "    -------\r\n",
    "    [type]\r\n",
    "        return the argmin and a list of evolution of coefficient vectors\r\n",
    "    \"\"\"\r\n",
    "\r\n",
    "    # params\r\n",
    "    n, p = X.shape\r\n",
    "    # w_0\r\n",
    "    w = np.zeros(p)\r\n",
    "    w_list = []\r\n",
    "\r\n",
    "    for i in range(n_iters):\r\n",
    "        # compute current gradient\r\n",
    "        grad = ridge_gradient(\r\n",
    "            w, \r\n",
    "            X, \r\n",
    "            y, \r\n",
    "            lbda\r\n",
    "        )\r\n",
    "\r\n",
    "        # update w\r\n",
    "        w = w - step * grad\r\n",
    "\r\n",
    "        # save current stage\r\n",
    "        w_list.append(w.copy())\r\n",
    "        \r\n",
    "    return w, w_list  # returns the value of w and the list of iterates"
   ],
   "outputs": [],
   "metadata": {}
  },
  {
   "cell_type": "code",
   "execution_count": 20,
   "source": [
    "def get_smoothness_const(\r\n",
    "    X: np.array,\r\n",
    "    lbda: float\r\n",
    "    ) -> float:\r\n",
    "    \"\"\"determine the constant of smoothness\r\n",
    "\r\n",
    "    Parameters\r\n",
    "    ----------\r\n",
    "    matrix : np.array\r\n",
    "        Observation matrix\r\n",
    "    lbda: float\r\n",
    "        the regularization coefficient\r\n",
    "\r\n",
    "    Returns\r\n",
    "    -------\r\n",
    "    float\r\n",
    "        returns the constant of smoothness\r\n",
    "    \"\"\"\r\n",
    "\r\n",
    "    # param\r\n",
    "    n, p = X.shape\r\n",
    "    I_p = np.eye(\r\n",
    "        # dimension\r\n",
    "        p,\r\n",
    "        dtype=float\r\n",
    "    )\r\n",
    "\r\n",
    "    # hessian matrix\r\n",
    "    hess = X.T.dot(X) + lbda * I_p\r\n",
    "\r\n",
    "    return max(np.linalg.eigvalsh(hess))\r\n",
    "\r\n",
    "\r\n",
    "step = get_smoothness_const(\r\n",
    "    # observation matrix\r\n",
    "    X, \r\n",
    "    # regularization\r\n",
    "    lbda\r\n",
    ")\r\n",
    "step = 1 / step\r\n",
    "n_iters = 100\r\n",
    "\r\n",
    "# solve\r\n",
    "w, w_list = ridge_gradient_descent(\r\n",
    "    X, \r\n",
    "    y,\r\n",
    "    lbda, \r\n",
    "    step,\r\n",
    "    n_iters\r\n",
    ")"
   ],
   "outputs": [],
   "metadata": {}
  },
  {
   "cell_type": "code",
   "execution_count": 22,
   "source": [
    "f_star = ridge_cost(w_star, X, y, lbda)\r\n",
    "f_vals = [ridge_cost(w, X, y, lbda) - f_star for w in w_list]\r\n",
    "\r\n",
    "plt.semilogy(f_vals)\r\n",
    "plt.xlabel('iterations')\r\n",
    "plt.ylabel('f - f^*')"
   ],
   "outputs": [
    {
     "output_type": "execute_result",
     "data": {
      "text/plain": [
       "Text(0, 0.5, 'f - f^*')"
      ]
     },
     "metadata": {},
     "execution_count": 22
    },
    {
     "output_type": "display_data",
     "data": {
      "image/png": "[encoded data removed]",
      "text/plain": [
       "<Figure size 432x288 with 1 Axes>"
      ]
     },
     "metadata": {
      "needs_background": "light"
     }
    }
   ],
   "metadata": {}
  },
  {
   "cell_type": "code",
   "execution_count": 23,
   "source": [
    "dists = [np.linalg.norm(w - w_star) for w in w_list]\r\n",
    "\r\n",
    "plt.semilogy(dists)\r\n",
    "plt.xlabel('iterations')\r\n",
    "plt.ylabel('||x - x^*||')"
   ],
   "outputs": [
    {
     "output_type": "execute_result",
     "data": {
      "text/plain": [
       "Text(0, 0.5, '||x - x^*||')"
      ]
     },
     "metadata": {},
     "execution_count": 23
    },
    {
     "output_type": "display_data",
     "data": {
      "image/png": "[encoded data removed]",
      "text/plain": [
       "<Figure size 432x288 with 1 Axes>"
      ]
     },
     "metadata": {
      "needs_background": "light"
     }
    }
   ],
   "metadata": {}
  },
  {
   "cell_type": "markdown",
   "source": [
    "**Exercice 4** Give the formula for the conditioning of the problem. Write a function that computes the condition number given $X, y$ and $\\lambda$. "
   ],
   "metadata": {}
  },
  {
   "cell_type": "markdown",
   "source": [
    "explicit formula of $\\kappa$: $\\kappa = \\frac{\\lambda_{min} + \\lambda}{\\lambda_{max} + \\lambda}$\r\n",
    "\r\n",
    "(eigen values of $X^{T}X$ )"
   ],
   "metadata": {}
  },
  {
   "cell_type": "code",
   "execution_count": 26,
   "source": [
    "def conditioning(\r\n",
    "    X, \r\n",
    "    lbda: float\r\n",
    "    ) -> float:\r\n",
    "    \"\"\"Determine the kappa constant corresponding to a certain problem\r\n",
    "\r\n",
    "    Parameters\r\n",
    "    ----------\r\n",
    "    X : [type]\r\n",
    "        observation matrix\r\n",
    "    lbda : float\r\n",
    "        regularization coefficient\r\n",
    "\r\n",
    "    Returns\r\n",
    "    -------\r\n",
    "    float\r\n",
    "        returns the kappa constant\r\n",
    "    \"\"\"\r\n",
    "\r\n",
    "    # param\r\n",
    "    sym_matrix = X.T.dot(X)\r\n",
    "    # eigen values\r\n",
    "    eigen_values = np.linalg.eigvalsh(sym_matrix)\r\n",
    "\r\n",
    "    # constants\r\n",
    "    mu = min(eigen_values) + lbda\r\n",
    "    L = max(eigen_values) + lbda\r\n",
    "\r\n",
    "    return mu / L"
   ],
   "outputs": [],
   "metadata": {}
  },
  {
   "cell_type": "markdown",
   "source": [
    "**Exercice 5** Generate a problem with $n=50$, $p=100$ where the conditioning is $~0.5$, and another problem where the conditioning is $~1 / 1000$. Compare the convergence curves on these problems."
   ],
   "metadata": {}
  },
  {
   "cell_type": "code",
   "execution_count": 38,
   "source": [
    "# Well conditioned problem\r\n",
    "n, p = 50, 100\r\n",
    "# your code here\r\n",
    "conditioning(X, lbda=0.1)"
   ],
   "outputs": [
    {
     "output_type": "execute_result",
     "data": {
      "text/plain": [
       "0.147569045242899"
      ]
     },
     "metadata": {},
     "execution_count": 38
    }
   ],
   "metadata": {}
  },
  {
   "cell_type": "markdown",
   "source": [
    "In order to get a very bad conditioning, we can generate a very badly conditioned matrix $X$ as $U\\Sigma V$ where $U$, $V$ are random orthogonal matrices and $\\Sigma$ is badly conditioned."
   ],
   "metadata": {}
  },
  {
   "cell_type": "code",
   "execution_count": 89,
   "source": [
    "from scipy.linalg import qr\r\n",
    "\r\n",
    "# Poorly conditioned problem\r\n",
    "n, p = 50, 100\r\n",
    "\r\n",
    "\r\n",
    "# generate random matrix X (n, p)\r\n",
    "H = np.random.randn(n, p)\r\n",
    "Q, R = qr(H)\r\n",
    "\r\n",
    "# create diagonal \r\n",
    "max_sigma = 10 ** 2\r\n",
    "diagonal = np.array(\r\n",
    "    # diagonal\r\n",
    "    [max_sigma] + [1 for i in range(p - 1)], \r\n",
    "    dtype=float\r\n",
    ")\r\n",
    "\r\n",
    "diag_matrix = np.diag(diagonal)\r\n",
    "\r\n",
    "# create X\r\n",
    "X = R.T @ diag_matrix @ Q\r\n"
   ],
   "outputs": [
    {
     "output_type": "error",
     "ename": "ValueError",
     "evalue": "matmul: Input operand 1 has a mismatch in its core dimension 0, with gufunc signature (n?,k),(k,m?)->(n?,m?) (size 100 is different from 50)",
     "traceback": [
      "\u001b[1;31m---------------------------------------------------------------------------\u001b[0m",
      "\u001b[1;31mValueError\u001b[0m                                Traceback (most recent call last)",
      "\u001b[1;32m<ipython-input-89-ff6b56d9d3df>\u001b[0m in \u001b[0;36m<module>\u001b[1;34m\u001b[0m\n\u001b[0;32m     20\u001b[0m \u001b[1;33m\u001b[0m\u001b[0m\n\u001b[0;32m     21\u001b[0m \u001b[1;31m# create X\u001b[0m\u001b[1;33m\u001b[0m\u001b[1;33m\u001b[0m\u001b[1;33m\u001b[0m\u001b[0m\n\u001b[1;32m---> 22\u001b[1;33m \u001b[0mX\u001b[0m \u001b[1;33m=\u001b[0m \u001b[0mR\u001b[0m\u001b[1;33m.\u001b[0m\u001b[0mT\u001b[0m \u001b[1;33m@\u001b[0m \u001b[0mdiag_matrix\u001b[0m \u001b[1;33m@\u001b[0m \u001b[0mQ\u001b[0m\u001b[1;33m\u001b[0m\u001b[1;33m\u001b[0m\u001b[0m\n\u001b[0m",
      "\u001b[1;31mValueError\u001b[0m: matmul: Input operand 1 has a mismatch in its core dimension 0, with gufunc signature (n?,k),(k,m?)->(n?,m?) (size 100 is different from 50)"
     ]
    }
   ],
   "metadata": {}
  },
  {
   "cell_type": "code",
   "execution_count": 87,
   "source": [
    "H.shape"
   ],
   "outputs": [
    {
     "output_type": "execute_result",
     "data": {
      "text/plain": [
       "(50, 100)"
      ]
     },
     "metadata": {},
     "execution_count": 87
    }
   ],
   "metadata": {}
  },
  {
   "cell_type": "code",
   "execution_count": 80,
   "source": [
    "conditioning(\r\n",
    "    X,\r\n",
    "    lbda=10\r\n",
    ")"
   ],
   "outputs": [
    {
     "output_type": "execute_result",
     "data": {
      "text/plain": [
       "0.0012738550000818125"
      ]
     },
     "metadata": {},
     "execution_count": 80
    }
   ],
   "metadata": {}
  }
 ],
 "metadata": {
  "kernelspec": {
   "name": "python3",
   "display_name": "Python 3.8.5 64-bit ('base': conda)"
  },
  "language_info": {
   "codemirror_mode": {
    "name": "ipython",
    "version": 3
   },
   "file_extension": ".py",
   "mimetype": "text/x-python",
   "name": "python",
   "nbconvert_exporter": "python",
   "pygments_lexer": "ipython3",
   "version": "3.8.5"
  },
  "interpreter": {
   "hash": "1e915f0a29dc84041eaeb02b7b1a21c440e37a87b61d44d5e84a515737dc82bc"
  }
 },
 "nbformat": 4,
 "nbformat_minor": 4
}